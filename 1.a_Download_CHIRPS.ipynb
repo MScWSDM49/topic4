{
 "cells": [
  {
   "cell_type": "markdown",
   "id": "282b264d",
   "metadata": {},
   "source": [
    "<div>\n",
    "<table style=\"width: 100%\">\n",
    "\t<tr>\n",
    "\t\t<td>\n",
    "\t\t<table style=\"width: 100%\">\n",
    "\t\t\t<tr>\n",
    "                <td ><center><font size=\"5\"><b>Module 49</b></font><center>\n",
    "                <center><font size=\"6\">Digital Innovations for Water Challenges</font><center></td>\n",
    "\t\t\t</tr>\n",
    "\t\t\t<tr>\n",
    "                <td><center><font size=\"14\">Notebook 1.a</font><center></td>\n",
    "\t\t\t</tr>\n",
    "\t\t\t<tr>\n",
    "                <td><center><font size=\"6\"><b>CHIRPS data download</b></font><center></td>\n",
    "\t\t\t</tr>\n",
    "\t\t</table>\n",
    "\t\t</td>\n",
    "\t\t<td><center><img src='images\\ihe-delft-institute_unesco_fc-lr.jpg'></img></td>\n",
    "\t</tr>\n",
    "</table>\n",
    "</div>"
   ]
  },
  {
   "cell_type": "markdown",
   "id": "9b8a190e-426e-402e-9993-dabc9293782f",
   "metadata": {},
   "source": [
    "# Table of contents\n",
    "1. [Learning objectives](#learningobs)\n",
    "2. [Introduction](#introduction)\n",
    "3. [Download data from ftp](#ftp)\n",
    "4. [Download data using OPeNDAP](#opendap)\n",
    "\n",
    "# 1. Learning objectives<a name=\"learningobs\"></a>\n",
    "\n",
    "- Download data from ftp\n",
    "- Unzip files\n",
    "- Practice building a loop\n",
    "- Practice string formatting\n",
    "- Download data using OPeNDAP to subset region \n",
    "\n",
    "# 2. Introduction<a name=\"introduction\"></a>\n",
    "In this notebook you will learn to download CHIRPS data from a region of interest using 2 methods:\n",
    "- as tiff files from the UCSB ftp site using simple ftp: https://data.chc.ucsb.edu/products/CHIRPS-2.0/\n",
    "- as .nc files from the NOAA coastwatch website using the OPeNDAP (https://www.opendap.org/) framework:\n",
    "https://coastwatch.pfeg.noaa.gov/erddap/griddap/chirps20GlobalDailyP05.html \n",
    "\n",
    "You will need the following python packages installed:  \n",
    ">wget <br> gzip"
   ]
  },
  {
   "cell_type": "code",
   "execution_count": null,
   "id": "068e45d6",
   "metadata": {},
   "outputs": [],
   "source": [
    "#load modules\n",
    "import wget\n",
    "import gzip\n",
    "import datetime\n",
    "import os\n",
    "from pathlib import Path"
   ]
  },
  {
   "cell_type": "markdown",
   "id": "67f4e03b",
   "metadata": {},
   "source": [
    ">*Reminder*: if you get a ModuleNotFoundError you can install them from within the notebook by running:  \n",
    "!conda install *packagename*    \n",
    "            or  \n",
    "            !pip install *packagename*    "
   ]
  },
  {
   "cell_type": "markdown",
   "id": "76526200",
   "metadata": {},
   "source": [
    "# 3. Download CHIRPS from the UCSB ftp site <a name=\"ftp\"></a>\n",
    "From the homepage of CHIRPS you can navigate to the ftp where the data is hosted.\n",
    "https://data.chc.ucsb.edu/products/CHIRPS-2.0/ <br>\n",
    "From here you can navigate the folders to reach the specific files you are interested in - we will learn how to download these files using wget."
   ]
  },
  {
   "cell_type": "markdown",
   "id": "8594e875-bbf2-44c8-942c-0586fa07e3e3",
   "metadata": {},
   "source": [
    "### 3.a. First we will create folder where you wish to place the files and navigate to the directory"
   ]
  },
  {
   "cell_type": "code",
   "execution_count": null,
   "id": "ff344bf5-aa9a-44bf-a6a7-ccea55bae9c1",
   "metadata": {},
   "outputs": [],
   "source": [
    "Path(r\"./CHIRPS_tiff\").mkdir(parents=True, exist_ok=True)\n",
    "os.chdir(r\"./CHIRPS_tiff\")"
   ]
  },
  {
   "cell_type": "markdown",
   "id": "b555cfd4-1fba-4830-b3b1-f8601f4b2658",
   "metadata": {},
   "source": [
    "Note: If you want to check the directory you are currently in you can use the following command:\n",
    ">os.getcwd()"
   ]
  },
  {
   "cell_type": "markdown",
   "id": "cc9a0be8-bf07-4738-b378-20b0d192c458",
   "metadata": {},
   "source": [
    "### 3.b. Next identify the path to the file you want to download and use wget to download the data\n",
    "Navigate the ftp site to find the file you want to download. In the cell below we have chosen the daily data for the entire globe for 01/01/2022."
   ]
  },
  {
   "cell_type": "code",
   "execution_count": null,
   "id": "c16b2532",
   "metadata": {},
   "outputs": [],
   "source": [
    "link_to_file_1 = r'https://data.chc.ucsb.edu/products/CHIRPS-2.0/global_daily/tifs/p05/2022/chirps-v2.0.2022.01.01.tif.gz'"
   ]
  },
  {
   "cell_type": "markdown",
   "id": "bfee3f71-6cfa-41cf-8b43-30f37d50581e",
   "metadata": {},
   "source": [
    "To obtain the file using wget, simply run the command below:"
   ]
  },
  {
   "cell_type": "code",
   "execution_count": null,
   "id": "8505cb33-fe28-42f9-b6dc-4e68549f2289",
   "metadata": {},
   "outputs": [],
   "source": [
    "fout = wget.download(link_to_file_1)"
   ]
  },
  {
   "cell_type": "markdown",
   "id": "64a5463a-9764-455d-b0fc-42da73c5e34e",
   "metadata": {},
   "source": [
    "### 3.c. You now have a zipped file - let's unzip it using gzip"
   ]
  },
  {
   "cell_type": "code",
   "execution_count": null,
   "id": "ec8fe2ae-0ab6-448d-81e7-de5c5b2f6f34",
   "metadata": {},
   "outputs": [],
   "source": [
    "outfilename = fout[:-3]\n",
    "with gzip.GzipFile(fout, 'rb') as zf:\n",
    "    file_content = zf.read()\n",
    "    save_file_content = open(outfilename, 'wb')\n",
    "    save_file_content.write(file_content)\n",
    "save_file_content.close()\n",
    "zf.close()"
   ]
  },
  {
   "cell_type": "markdown",
   "id": "20bafbb9-9120-4cb1-8d09-8c9282ddf4fe",
   "metadata": {},
   "source": [
    "### 3.d. Exercise: \n",
    "Write a code to download all chirps monthly data for Africa from 2020.\n",
    "<br>Hint: you can use the f-strings formatting in a loop (https://docs.python.org/3/tutorial/inputoutput.html)\n",
    "<br>For example: \n",
    "```python\n",
    "for i in [1,2]:   \n",
    "    print(f'The value of i is {i}')\n",
    "```\n",
    "will return: <br>\n",
    ">The value of i is 1 <br>\n",
    ">The value of i is 2\n",
    "\n",
    "You can then format this output to match your needs. For example if you look at the format of the file names you will see that the month is a padded integer, i.e. 01 for january instead of 1. \n",
    "\n",
    "```python\n",
    "for i in [1,2]:   \n",
    "    print(f'The value of i is {i:02d}')\n",
    "```\n",
    "will return: <br>\n",
    ">The value of i is 01 <br>\n",
    ">The value of i is 02\n",
    "\n",
    ">You can find some more examples here: https://docs.python.org/3/library/string.html#format-string-syntax"
   ]
  },
  {
   "cell_type": "code",
   "execution_count": null,
   "id": "300d2184-f805-47aa-961c-b691520a6324",
   "metadata": {},
   "outputs": [],
   "source": [
    "#Run this cell as an example of string formatting\n",
    "for i in [1,2]:\n",
    "    print(f'The value of i is {i:02d}')"
   ]
  },
  {
   "cell_type": "code",
   "execution_count": null,
   "id": "524b9413-c9fe-4ebf-b49f-be28450fdfda",
   "metadata": {},
   "outputs": [],
   "source": [
    "#Complete code in this cell to download the year 2020\n",
    "for i in list(range(1,13)):\n",
    "    link_to_file = f'https://data.chc.ucsb.edu/products/CHIRPS-2.0/africa_monthly/tifs/chirps-v2.0.2020.{COMPLETE HERE}.tif.gz'\n",
    "# to be removed in the notebook given to students:\n",
    "#link_to_file = f'https://data.chc.ucsb.edu/products/CHIRPS-2.0/africa_monthly/tifs/chirps-v2.0.2020.{i:02d}.tif.gz'\n",
    "    fout = wget.download(link_to_file)\n",
    "    print(f' Download for month {i} complete')\n",
    "    outfilename = fout[:-3]\n",
    "    with gzip.GzipFile(fout, 'rb') as zf:\n",
    "        file_content = zf.read()\n",
    "        save_file_content = open(outfilename, 'wb')\n",
    "        save_file_content.write(file_content)\n",
    "    save_file_content.close()\n",
    "    zf.close()"
   ]
  },
  {
   "cell_type": "markdown",
   "id": "3808b1b8",
   "metadata": {},
   "source": [
    "# 4. From the NOAA server using OPeNDAP <a name=\"opendap\"></a>\n",
    "In part 1. we downloaded data from an ftp. While we could select the months or days of interest, in terms of spatial extent we could only choose pre-existing tiles. \n",
    "Using the OPeNDAP framework, we can make calls to download only data from a specific area as well."
   ]
  },
  {
   "cell_type": "markdown",
   "id": "6793e12f-321f-4784-ad0e-081b1942299b",
   "metadata": {},
   "source": [
    "### 4.a. Create a new folder for the .nc data"
   ]
  },
  {
   "cell_type": "code",
   "execution_count": null,
   "id": "cf38e368-0bcb-4838-85b5-42863e6c631b",
   "metadata": {},
   "outputs": [],
   "source": [
    "Path(r\"../CHIRPS_nc\").mkdir(parents=True, exist_ok=True)\n",
    "os.chdir(r\"../CHIRPS_nc\")"
   ]
  },
  {
   "cell_type": "markdown",
   "id": "bf6c852b-0166-4a4d-9ba7-995c0857fcb4",
   "metadata": {},
   "source": [
    "### 4.b. Define the time period and geographic area you wish to download"
   ]
  },
  {
   "cell_type": "code",
   "execution_count": 15,
   "id": "4f8d0f99",
   "metadata": {},
   "outputs": [],
   "source": [
    "start_date = datetime.datetime(2020,1,1)\n",
    "end_date = datetime.datetime(2021,12,1)\n",
    "\n",
    "bounding_box = [-10, 0, 5, 15] #bounding_box = [latmin, latmax, lonmin, lonmax]"
   ]
  },
  {
   "cell_type": "code",
   "execution_count": 16,
   "id": "7a93eb07",
   "metadata": {},
   "outputs": [],
   "source": [
    "year_st = start_date.year\n",
    "m_st = start_date.month\n",
    "d_st = start_date.day\n",
    "year_end = end_date.year\n",
    "m_end = end_date.month\n",
    "d_end = end_date.day\n",
    "\n",
    "lat_1 = bounding_box[0]\n",
    "lat_2 = bounding_box[1]\n",
    "lon_1 = bounding_box[2]\n",
    "lon_2 = bounding_box[3]"
   ]
  },
  {
   "cell_type": "code",
   "execution_count": 17,
   "id": "d429220f",
   "metadata": {},
   "outputs": [],
   "source": [
    "path_to_nc = f'https://coastwatch.pfeg.noaa.gov/erddap/griddap/chirps20GlobalMonthlyP05.nc?precip%5B({year_st}-{m_st}-{d_st}T00:00:00Z):1:({year_end}-{m_end}-{d_end}T00:00:00Z)%5D%5B({lat_1}):1:({lat_2})%5D%5B({lon_1}):1:({lon_2})%5D'"
   ]
  },
  {
   "cell_type": "code",
   "execution_count": 18,
   "id": "70b56025",
   "metadata": {},
   "outputs": [
    {
     "name": "stdout",
     "output_type": "stream",
     "text": [
      "-1 / unknown"
     ]
    },
    {
     "data": {
      "text/plain": [
       "'chirps20GlobalMonthlyP05_ea7a_a7e6_216e.nc'"
      ]
     },
     "execution_count": 18,
     "metadata": {},
     "output_type": "execute_result"
    }
   ],
   "source": [
    "wget.download(path_to_nc)"
   ]
  },
  {
   "cell_type": "markdown",
   "id": "3bc925b4",
   "metadata": {},
   "source": [
    "## How does it work?  \n",
    "Go to the website: https://coastwatch.pfeg.noaa.gov/erddap/griddap/chirps20GlobalDailyP05.html   \n",
    "Explore the options and see if you can understand how we got to the creation of path_to_nc.\n"
   ]
  },
  {
   "cell_type": "markdown",
   "id": "ea224053",
   "metadata": {},
   "source": [
    "## Exercise\n",
    "From the page https://coastwatch.pfeg.noaa.gov/erddap/griddap/index.html?page=1&itemsPerPage=1000\n",
    "Try to create a similar code as the one presented above to download the daily instead of monthly CHIRPS data."
   ]
  },
  {
   "cell_type": "code",
   "execution_count": null,
   "id": "d96da1e8",
   "metadata": {},
   "outputs": [],
   "source": []
  },
  {
   "cell_type": "code",
   "execution_count": null,
   "id": "f4b5d9b6-a8a1-4953-9e1e-7508ca9311c1",
   "metadata": {},
   "outputs": [],
   "source": []
  }
 ],
 "metadata": {
  "kernelspec": {
   "display_name": "Python 3 (ipykernel)",
   "language": "python",
   "name": "python3"
  },
  "language_info": {
   "codemirror_mode": {
    "name": "ipython",
    "version": 3
   },
   "file_extension": ".py",
   "mimetype": "text/x-python",
   "name": "python",
   "nbconvert_exporter": "python",
   "pygments_lexer": "ipython3",
   "version": "3.9.7"
  }
 },
 "nbformat": 4,
 "nbformat_minor": 5
}
