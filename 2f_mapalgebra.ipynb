{
 "cells": [
  {
   "cell_type": "markdown",
   "metadata": {},
   "source": [
    "<div>\n",
    "<table style=\"width: 100%\">\n",
    "\t<tr>\n",
    "\t\t<td>\n",
    "\t\t<table style=\"width: 100%\">\n",
    "\t\t\t<tr>\n",
    "                <td ><center><font size=\"5\"><b>Module 49</b></font><center>\n",
    "                <center><font size=\"6\">Digital Innovations for Water Challenges</font><center></td>\n",
    "\t\t\t</tr>\n",
    "\t\t\t<tr>\n",
    "                <td><center><font size=\"14\">Notebook 2.f</font><center></td>\n",
    "\t\t\t</tr>\n",
    "\t\t\t<tr>\n",
    "                <td><center><font size=\"6\"><b>Map Algebra</b></font><center></td>\n",
    "\t\t\t</tr>\n",
    "\t\t</table>\n",
    "\t\t</td>\n",
    "\t\t<td><center><img src='images/ihe-delft-institute_unesco_fc-lr.jpg'></img></td>\n",
    "\t</tr>\n",
    "</table>\n",
    "</div>"
   ]
  },
  {
   "cell_type": "markdown",
   "metadata": {},
   "source": [
    "# Table of contents\n",
    "1. [Learning objectives](#learningobs)\n",
    "2. [Introduction](#introduction)\n",
    "3. [Preparation](#preparation)\n",
    "4. [Condition 1: Wells within 150 Meters of Houses or Roads](#condition_1)\n",
    "5. [Condition 2: No Industry, Mine, or Landfill within 300 Meters from Wells](#condition_2)\n",
    "6. [Condition 3: Wells Less than 40 Meters Deep](#condition_3)\n",
    "7. [Combine the Three Conditions](#combine)\n",
    "8. [What is the advantage of scripting map algebra?](#conclusion)"
   ]
  },
  {
   "cell_type": "markdown",
   "metadata": {},
   "source": [
    "# 1. Learning objectives<a name=\"learningobs\"></a>\n",
    "After this lesson you will be able to:\n",
    "\n",
    "* apply map algebra for raster analysis\n",
    "* distinguish Boolean, discrete, and continuous rasters\n",
    "* make legends for Boolean, discrete, and continuous maps\n",
    "* understand the use of Nodata\n",
    "* use logical operators\n",
    "* calculate distances from rasters\n",
    "* reclassify rasters\n",
    "\n",
    "# 2. Introduction<a name=\"introduction\"></a>\n",
    "With map algebra we can do calculations with raster layers. This is useful for spatial analysis. For example, when we need to evaluate different criteria to find suitable or unsuitable locations we can use map algebra.\n",
    "\n",
    "### Case study\n",
    "In this lesson we'll address the following case.\n",
    "The municipality of the (imaginary) oasis Aïn Kju Dzjis has hired you to analyse which wells are unsuitable for its inhabitants based on the following conditions:\n",
    "\n",
    "_Condition 1:_\n",
    "The wells should be within 150 meters of houses or roads.\n",
    "\n",
    "_Condition 2:_\n",
    "No industry, mine, or landfill within 300 meters of the wells.\n",
    "\n",
    "_Condition 3:_\n",
    "The wells should be less than 40 meters deep.\n",
    "\n",
    "You will use map algebra to perform the required analysis.\n",
    "\n",
    "This lesson will follow this workflow:\n",
    "\n",
    "![](Images/Flowchart.PNG)\n",
    "\n",
    "\n",
    "### Software and data\n",
    "\n",
    "The exercises use the PCRaster Python software. For installation instructions click [here](https://pcraster.geo.uu.nl/pcraster/latest/documentation/pcraster_project/install.html).\n",
    "\n",
    "The raster layers for this lesson can be found in the <code>2j_Data</code> folder."
   ]
  },
  {
   "cell_type": "markdown",
   "metadata": {},
   "source": [
    "# 3. Preparation<a name=\"preparation\"></a>\n",
    "## 3.1 Introduction\n",
    "For this task you are provided with the following raster layers: `buildg.tif`, `roads.tif`, `dtm.tif`, and `gwlevel.tif`. You can find these files in the `2j_Data` folder.\n",
    "\n",
    "To work with PCRaster we need to convert the files to the PCRaster format. You can do that from the command line using the GDAL commands. Here we'll do the conversion with the GDAL Python library.\n",
    "\n",
    "## 3.2 Convert rasters with GDAL\n",
    "\n",
    "Let's convert the `buildg.tif` file.\n",
    "First we import `gdal` and `gdalconst` from the `osgeo` library:"
   ]
  },
  {
   "cell_type": "code",
   "execution_count": null,
   "metadata": {},
   "outputs": [],
   "source": [
    "from osgeo import gdal, gdalconst"
   ]
  },
  {
   "cell_type": "markdown",
   "metadata": {},
   "source": [
    "Then we read the GeoTIFF from our `2j_Data` folder."
   ]
  },
  {
   "cell_type": "code",
   "execution_count": null,
   "metadata": {},
   "outputs": [],
   "source": [
    "src_ds = gdal.Open( \"2j_Data/buildg.tif\" )"
   ]
  },
  {
   "cell_type": "markdown",
   "metadata": {},
   "source": [
    "Next we can use the Python equivalent of [`gdal_translate`](https://gdal.org/programs/gdal_translate.html#gdal-translate): `Translate`. We need to use the name of the format. See [GDAL Raster drivers (short name)](https://gdal.org/drivers/raster/index.html) for formats. In our case the output format is `PCRaster`.\n",
    "\n",
    "We also need to define the data type of the output.\n",
    "\n",
    "PCRaster uses data typing of the data in the database: each map has one of the six data types used attached to it. These data types help you and PCRaster to structure the data. See the table below.<br>\n",
    "\n",
    "| data type | description of attributes | domain | example |\n",
    "|:-------:|:-------:|:-------:|:-------:|\n",
    "| boolean | boolean | 0 (FALSE),<br> 1 (TRUE) | suitable/unsuitable, visible/non visible |\n",
    "| nominal |\tclassified, no order | whole values | soil classes |\n",
    "| ordinal | classified, order | whole values | succession stages, income groups |\n",
    "| scalar | continuous, linear | real values | temperature, concentration |\n",
    "| directional | continuous, directional | 0 to 360 degrees | aspect |\n",
    "| ldd | direction to neighbour cell | codes of directions | drainage networks |\n",
    "\n",
    "In the arguments of `Translate` you need to define the `outputType` and `metadataOptions` based on the table below. Note that we can only convert boolean, nominal and scalar rasters. The ldd and directional rasters are created within PCRaster. For scalar we can use Float 32 or Float 64, depending on the desired precision.\n",
    "\n",
    "| data type | `outputType` | `metadataOptions` |\n",
    "|:-------:|:-------:|:-------:|\n",
    "| boolean | `gdalconst.GDT_Byte` | `'VS_BOOLEAN'`|\n",
    "| nominal | `gdalconst.GDT_Int32` | `'VS_NOMINAL'`|\n",
    "| scalar | `gdalconst.GDT_Float32` | `'VS_SCALAR'`|\n",
    "| scalar | `gdalconst.GDT_Float64` | `'VS_SCALAR'`|\n",
    "\n",
    "`buildg.tif` is a nominal raster. It contains classes. Therefore the code we'll use for `Translate` is:"
   ]
  },
  {
   "cell_type": "code",
   "execution_count": null,
   "metadata": {},
   "outputs": [],
   "source": [
    "dst_ds = gdal.Translate('2j_Data/buildg.map', src_ds, format='PCRaster', \\\n",
    "                        outputType=gdalconst.GDT_Int32, metadataOptions='VS_NOMINAL')"
   ]
  },
  {
   "cell_type": "markdown",
   "metadata": {},
   "source": [
    "And we properly close the datasets to flush to disk:"
   ]
  },
  {
   "cell_type": "code",
   "execution_count": null,
   "metadata": {},
   "outputs": [],
   "source": [
    "dst_ds = None\n",
    "src_ds = None"
   ]
  },
  {
   "cell_type": "markdown",
   "metadata": {},
   "source": [
    "Now you can find the file `buildg.map` on your hard disk. Check if that's the case if you're running this notebook locally.\n",
    "\n",
    "Let's apply the same code to the other files `dtm.tif`, `roads.tif` and `gwlevel.tif`. In this case it's easier to write it as a function."
   ]
  },
  {
   "cell_type": "code",
   "execution_count": null,
   "metadata": {},
   "outputs": [],
   "source": [
    "#Import gdal\n",
    "from osgeo import gdal\n",
    "\n",
    "def ConvertToPCRaster(src_filename,dst_filename,ot,VS):\n",
    "    #Open existing dataset\n",
    "    src_ds = gdal.Open(src_filename)\n",
    "    \n",
    "    #GDAL Translate\n",
    "    dst_ds = gdal.Translate(dst_filename, src_ds, format='PCRaster', outputType=ot, metadataOptions=VS)\n",
    "    \n",
    "    #Properly close the datasets to flush to disk\n",
    "    dst_ds = None\n",
    "    src_ds = None\n",
    "    \n",
    "ConvertToPCRaster(\"2j_Data/buildg.tif\",\"data/buildg.map\",gdalconst.GDT_Int32,\"VS_NOMINAL\")\n",
    "ConvertToPCRaster(\"2j_Data/roads.tif\",\"data/roads.map\",gdalconst.GDT_Int32,\"VS_NOMINAL\")\n",
    "ConvertToPCRaster(\"2j_Data/gwlevel.tif\",\"data/gwlevel.map\",gdalconst.GDT_Float32,\"VS_SCALAR\")\n",
    "ConvertToPCRaster(\"2j_Data/dtm.tif\",\"data/dtm.map\",gdalconst.GDT_Float32,\"VS_SCALAR\")"
   ]
  },
  {
   "cell_type": "markdown",
   "metadata": {},
   "source": [
    "## 3.3 Inspecting the data\n",
    "For map algebra the properties of all raster layers used in calculations need to be the same.\n",
    "Let's find out if they have the same number of rows and columns, coordinates and pixel size.\n",
    "\n",
    "Let's open a PCRaster file with GDAL."
   ]
  },
  {
   "cell_type": "code",
   "execution_count": null,
   "metadata": {},
   "outputs": [],
   "source": [
    "RasterLayer = gdal.Open(\"2j_Data/dtm.map\")"
   ]
  },
  {
   "cell_type": "markdown",
   "metadata": {},
   "source": [
    "To get the numbers of rows and columns we can use the GDAL functions `RasterXSize` and `RasterYSize`.\n",
    "`RasterLayer.GetDescription()` gives the relative path of the layer."
   ]
  },
  {
   "cell_type": "code",
   "execution_count": null,
   "metadata": {},
   "outputs": [],
   "source": [
    "Path = RasterLayer.GetDescription()\n",
    "NrColumns = RasterLayer.RasterXSize\n",
    "NrRows = RasterLayer.RasterYSize\n",
    "print('{} has {} columns and {} rows'.format(Path,NrColumns,NrRows ))"
   ]
  },
  {
   "cell_type": "markdown",
   "metadata": {},
   "source": [
    "To know the coordinates and pixel size we can use `GetGeoTransform` from GDAL.\n",
    "It returns a tuple with the following information:\n",
    "`RasterLayer.GetGeoTransform[0]`: Top left X coordinate\n",
    "\n",
    "`RasterLayer.GetGeoTransform[1]`: West-East pixel resolution\n",
    "\n",
    "`RasterLayer.GetGeoTransform[2]`: Rotation, 0 for \"north up\"\n",
    "\n",
    "`RasterLayer.GetGeoTransform[3]`: Top left Y coordinate\n",
    "\n",
    "`RasterLayer.GetGeoTransform[4]`: Rotation, 0 for \"north up\"\n",
    "\n",
    "`RasterLayer.GetGeoTransform[5]`: North-South pixel resolution (negative)"
   ]
  },
  {
   "cell_type": "code",
   "execution_count": null,
   "metadata": {},
   "outputs": [],
   "source": [
    "RasterLayer.GetGeoTransform()"
   ]
  },
  {
   "cell_type": "markdown",
   "metadata": {},
   "source": [
    "Let's present that more readable."
   ]
  },
  {
   "cell_type": "code",
   "execution_count": null,
   "metadata": {},
   "outputs": [],
   "source": [
    "print(\"Origin = ({}, {})\".format(RasterLayer.GetGeoTransform()[0], RasterLayer.GetGeoTransform()[3]))\n",
    "print(\"Pixel Size = ({}, {})\".format(RasterLayer.GetGeoTransform()[1],RasterLayer.GetGeoTransform()[5]))"
   ]
  },
  {
   "cell_type": "markdown",
   "metadata": {},
   "source": [
    "We can also use GDAL to get the projection information. The PCRaster format doesn't store the projection information, but when we converted the rasters it saves an XML file with the projection info. The GDAL function is `GetProjection()`."
   ]
  },
  {
   "cell_type": "code",
   "execution_count": null,
   "metadata": {},
   "outputs": [],
   "source": [
    "RasterLayer.GetProjection()"
   ]
  },
  {
   "cell_type": "markdown",
   "metadata": {},
   "source": [
    "That gives us a string in the OGC WKT format.\n",
    "In order to make the projection and the units readable, we need to parse the OGC WKT string. For that we'll use the [PyCRS](https://pypi.org/project/PyCRS/) library. \n",
    "\n",
    "If it's not installed yet if you run this notebook locally, you can install the library by typing the following at the Anaconda prompt:\n",
    "\n",
    "`conda install -c conda-forge pycrs`\n",
    "\n",
    "First we import the library and save the OGC WKT string in a variable that we parse."
   ]
  },
  {
   "cell_type": "code",
   "execution_count": null,
   "metadata": {},
   "outputs": [],
   "source": [
    "import pycrs\n",
    "RasterLayerProjection = RasterLayer.GetProjection()\n",
    "\n",
    "# Parse OGC WKT string\n",
    "crs = pycrs.parse.from_ogc_wkt(RasterLayerProjection)"
   ]
  },
  {
   "cell_type": "markdown",
   "metadata": {},
   "source": [
    "We can check if it is a projected coordinate system:"
   ]
  },
  {
   "cell_type": "code",
   "execution_count": null,
   "metadata": {},
   "outputs": [],
   "source": [
    "isinstance(crs, pycrs.ProjCS)"
   ]
  },
  {
   "cell_type": "markdown",
   "metadata": {},
   "source": [
    "The result is `True` so we're not dealing with a Geographical Coordinate System.\n",
    "Let's get the name of the projection."
   ]
  },
  {
   "cell_type": "code",
   "execution_count": null,
   "metadata": {},
   "outputs": [],
   "source": [
    "ProjectionName = crs.name\n",
    "print(ProjectionName)"
   ]
  },
  {
   "cell_type": "markdown",
   "metadata": {},
   "source": [
    "We can also get the units of the projection:"
   ]
  },
  {
   "cell_type": "code",
   "execution_count": null,
   "metadata": {},
   "outputs": [],
   "source": [
    "ProjectionUnits = crs.unit.unitname.ogc_wkt\n",
    "print(ProjectionUnits)"
   ]
  },
  {
   "cell_type": "markdown",
   "metadata": {},
   "source": [
    "Finally it would be useful to get some statistics from the raster layer. Let's calculate the minimum and maximum value.\n",
    "Because raster layers can have multiple bands we need to select the band. In our case we have a single band raster layer, so we have to choose band 1."
   ]
  },
  {
   "cell_type": "code",
   "execution_count": null,
   "metadata": {},
   "outputs": [],
   "source": [
    "RasterLayerBand = RasterLayer.GetRasterBand(1)"
   ]
  },
  {
   "cell_type": "markdown",
   "metadata": {},
   "source": [
    "Now we can calculate the minumum and maximum value of the band using respectively `GetMinimum` and `GetMaximum`."
   ]
  },
  {
   "cell_type": "code",
   "execution_count": null,
   "metadata": {},
   "outputs": [],
   "source": [
    "RasterLayerMinimum = RasterLayerBand.GetMinimum()\n",
    "RasterLayerMaximum = RasterLayerBand.GetMaximum()\n",
    "print(\"Minimum: \", RasterLayerMinimum)\n",
    "print(\"Maximum: \", RasterLayerMaximum)"
   ]
  },
  {
   "cell_type": "markdown",
   "metadata": {},
   "source": [
    "Let's write this in a function and get the raster layer properties for all the raster layers so we can compare."
   ]
  },
  {
   "cell_type": "code",
   "execution_count": null,
   "metadata": {},
   "outputs": [],
   "source": [
    "from osgeo import gdal\n",
    "import pycrs\n",
    "\n",
    "def RasterLayerProperties(RasterLayer):\n",
    "    print(\"Raster file: {}\".format(RasterLayer.GetDescription()))\n",
    "    print(\"Driver: {}/{}\".format(RasterLayer.GetDriver().ShortName,\n",
    "                            RasterLayer.GetDriver().LongName))\n",
    "    print(\"Size is {} x {} x {}\".format(RasterLayer.RasterXSize,\n",
    "                                    RasterLayer.RasterYSize,\n",
    "                                    RasterLayer.RasterCount))\n",
    "    RasterLayerProjection = RasterLayer.GetProjection()\n",
    "    crs = pycrs.parse.from_ogc_wkt(RasterLayerProjection)\n",
    "    print(\"Projection:\",crs.name)\n",
    "    print(\"Map units:\",crs.unit.unitname.ogc_wkt)\n",
    "    geotransform = RasterLayer.GetGeoTransform()\n",
    "    if geotransform:\n",
    "        print(\"Origin = ({}, {})\".format(geotransform[0], geotransform[3]))\n",
    "        print(\"Pixel Size = ({} {}, {} {})\".format(geotransform[1],crs.unit.unitname.ogc_wkt, \\\n",
    "                                                   geotransform[5],crs.unit.unitname.ogc_wkt))\n",
    "    RasterLayerBand = RasterLayer.GetRasterBand(1)\n",
    "    print(\"Minimum: {}\".format(RasterLayerBand.GetMinimum()))\n",
    "    print(\"Maximum: {}\".format(RasterLayerBand.GetMaximum()))\n",
    "    \n",
    "    print()\n",
    "    RasterLayer = None\n",
    "    \n",
    "    \n",
    "DTMLayer = gdal.Open( \"data/dtm.map\" )\n",
    "RasterLayerProperties(DTMLayer)\n",
    "\n",
    "BuildgLayer = gdal.Open( \"data/buildg.map\" )\n",
    "RasterLayerProperties(BuildgLayer)\n",
    "\n",
    "RoadsLayer = gdal.Open( \"data/roads.map\" )\n",
    "RasterLayerProperties(RoadsLayer)\n",
    "\n",
    "GWLevelLayer = gdal.Open( \"data/gwlevel.map\" )\n",
    "RasterLayerProperties(GWLevelLayer)"
   ]
  },
  {
   "cell_type": "markdown",
   "metadata": {},
   "source": [
    "Based on these results we can conclude that the raster layers have the same properties and are suitable for map algebra."
   ]
  },
  {
   "cell_type": "markdown",
   "metadata": {},
   "source": [
    "# 4. Condition 1: Wells within 150 Meters of Houses or Roads<a name=\"condition_1\"></a>\n",
    "## 4.1 Introduction\n",
    "\n",
    "Now that we've converted the GeoTIFF files to PCRaster format and have checked their properties, it's time to proceed with analysing the three conditions:\n",
    "\n",
    "* Condition 1: Wells within 150 meters of houses or roads\n",
    "* Condition 2: No industry, mine, or landfill within 300 meters from wells\n",
    "* Condition 3: Wells less than 40 meters deep\n",
    "\n",
    "For Condition 1 we'll first look at the houses and we'll do the following:\n",
    "\n",
    "1. Create a boolean layer with True for houses and False for other buildings\n",
    "2. Create zones of 150 meters around the houses\n",
    "\n",
    "Then we'll repeat the steps for roads.\n",
    "\n",
    "## 4.2 Create a Boolean Layer with True for Houses and False for Other Buildings\n",
    "We usually type the commands at the Python prompt. In this Jupyter Notebook we simulate this. I.e. everything you type in the fields is equal to a command at the Python prompt.\n",
    "\n",
    "Let's first load the `pcraster` module."
   ]
  },
  {
   "cell_type": "code",
   "execution_count": null,
   "metadata": {},
   "outputs": [],
   "source": [
    "from pcraster import *"
   ]
  },
  {
   "cell_type": "markdown",
   "metadata": {},
   "source": [
    "Remember that our data is stored in the `2j_Data` folder, while our Python is running in the parent folder. For convenience it's useful to change to the Data folder so all our input and output files are read and written there respectively.\n",
    "\n",
    "With the `os` library we can use command line command."
   ]
  },
  {
   "cell_type": "code",
   "execution_count": null,
   "metadata": {},
   "outputs": [],
   "source": [
    "import os"
   ]
  },
  {
   "cell_type": "markdown",
   "metadata": {},
   "source": [
    "Let's check the current working directory."
   ]
  },
  {
   "cell_type": "code",
   "execution_count": null,
   "metadata": {},
   "outputs": [],
   "source": [
    "print(os.getcwd())"
   ]
  },
  {
   "cell_type": "markdown",
   "metadata": {},
   "source": [
    "We can use an equivalent of the `cd` command to change the directory: `os.chdir(stringWithPath)`, where `stringWithPath` defines the path."
   ]
  },
  {
   "cell_type": "code",
   "execution_count": null,
   "metadata": {},
   "outputs": [],
   "source": [
    "os.chdir(\"./2j_Data\")"
   ]
  },
  {
   "cell_type": "markdown",
   "metadata": {},
   "source": [
    "Check where we are now. Make sure that we are in the `2j_Data` folder of this tutorial."
   ]
  },
  {
   "cell_type": "code",
   "execution_count": null,
   "metadata": {},
   "outputs": [],
   "source": []
  },
  {
   "cell_type": "markdown",
   "metadata": {},
   "source": [
    "Now we're ready to read `buildg.map` from disk and use it for map algebra with PCRaster.\n",
    "We can read maps using `readmap(stringWithPathToFile)`."
   ]
  },
  {
   "cell_type": "code",
   "execution_count": null,
   "metadata": {},
   "outputs": [],
   "source": [
    "Buildings = readmap(\"buildg.map\")"
   ]
  },
  {
   "cell_type": "markdown",
   "metadata": {},
   "source": [
    "Now we have read `buildg.map` from disk and can refer to it with the variable `Buildings`.\n",
    "There are different ways to visualise the map:\n",
    "* In Python we can use the `aguila` operator: `aguila(Buildings)`\n",
    "* At the command prompt we can use the `Aguila` command with the file name: `aguila buildg.map`\n",
    "* Use Python plotting tools that also work with Jupyter notebooks on Binder etc.\n",
    "\n",
    "We're going to use the last option in this Jupyter notebook. But you can try the other ones too if you run this notebook locally."
   ]
  },
  {
   "cell_type": "markdown",
   "metadata": {},
   "source": [
    "We can use the `plot` operator to visualise PCRaster maps. It has the following syntax:\n",
    "\n",
    "```Python\n",
    "plot(raster, labels=None, title=None, filename=None)\n",
    "```\n",
    "\n",
    "The inputs are:\n",
    "\n",
    "`raster`: Raster map with type of either Boolean, Nominal, Scalar, or Ldd.\n",
    "\n",
    "`labels`: Optional. Dictionary of labels that should be used for the legend, cell values will be used otherwise.\n",
    "\n",
    "`title`: Optional. Legend title as string, tries to identify the variable name otherwise.\n",
    "\n",
    "`filename`: Optional. If provided plot will be written to disk.\n",
    "\n",
    "Raster data has no attribute table. The values in the `Buildings` raster represent the following classes:\n",
    "\n",
    "| Value | Class |\n",
    "|:-------:|:-------:|\n",
    "| 0 | None |\n",
    "| 1 | House |\n",
    "| 2 | Public building |\n",
    "| 3 | Landfill |\n",
    "| 4 | Industry |\n",
    "| 5 | Mine |\n",
    "\n",
    "We can save the legend in a Python dictionary:"
   ]
  },
  {
   "cell_type": "code",
   "execution_count": null,
   "metadata": {},
   "outputs": [],
   "source": [
    "Legend = {0:\"None\",1:\"House\",2:\"Public building\",3:\"Landfill\",4:\"Industry\",5:\"Mine\"}"
   ]
  },
  {
   "cell_type": "markdown",
   "metadata": {},
   "source": [
    "We can now plot the Buildings layer by executing this code:"
   ]
  },
  {
   "cell_type": "code",
   "execution_count": null,
   "metadata": {},
   "outputs": [],
   "source": [
    "plot(Buildings, labels=Legend, title=\"Buildings\", filename=None)"
   ]
  },
  {
   "cell_type": "markdown",
   "metadata": {},
   "source": [
    "We first need to create a boolean layer with True for houses and False for other buildings."
   ]
  },
  {
   "cell_type": "code",
   "execution_count": null,
   "metadata": {},
   "outputs": [],
   "source": [
    "Houses = Buildings == 1"
   ]
  },
  {
   "cell_type": "markdown",
   "metadata": {},
   "source": [
    "Here we have used the `==` operator. This creates a boolean map with value 1 for all cells that are equal to 1 and 0 for all other cells. Here you can find more info about [operators in PCRaster](https://pcraster.geo.uu.nl/pcraster/latest/documentation/python/quickstart.html#operators).\n",
    "Let's visualise the result with the `plot` operator:"
   ]
  },
  {
   "cell_type": "markdown",
   "metadata": {},
   "source": [
    "## 4.3 Create Zones of 150 Meters Around the Houses\n",
    "The next step is to create zones of 150 m around the houses.\n",
    "\n",
    "We can use the [`spreadmaxzone` function](https://pcraster.geo.uu.nl/pcraster/latest/documentation/pcraster_manual/sphinx/op_spreadmaxzone.html).\n",
    "\n",
    "The syntax is `Result = spreadmaxzone(points, initialfrictiondist, friction, max_distance)`\n",
    "In our case `points` are the `Houses`, `initialfrictiondist = 0`, `friction = 1` and `max_distance = 150`. `intialfrictiondistance = 0` means that their is no friction at the location of the houses an with `friction = 1` we calculate the distance from other pixels in an equal way without different weights."
   ]
  },
  {
   "cell_type": "code",
   "execution_count": null,
   "metadata": {},
   "outputs": [],
   "source": [
    "houses150m = spreadmaxzone(Houses, 0, 1, 150)"
   ]
  },
  {
   "cell_type": "markdown",
   "metadata": {},
   "source": [
    "Visualise the result."
   ]
  },
  {
   "cell_type": "code",
   "execution_count": null,
   "metadata": {},
   "outputs": [],
   "source": []
  },
  {
   "cell_type": "markdown",
   "metadata": {},
   "source": [
    "We can save this result to disk using the `report` function. The first argument is the variable name of the map that you want to write to disk. The second argument is the string of the file name."
   ]
  },
  {
   "cell_type": "code",
   "execution_count": null,
   "metadata": {},
   "outputs": [],
   "source": [
    "report(houses150m,\"houses150m.map\")"
   ]
  },
  {
   "cell_type": "markdown",
   "metadata": {},
   "source": [
    "If you run this notebook locally, verify that `houses150m.map` is stored in the `2j_Data` folder and visualise the result by using aguila from the command prompt:\n",
    "```\n",
    "aguila houses150.map\n",
    "```\n",
    "\n",
    "Alternatively, you can run terminal commands from a notebook by adding `!` to the command."
   ]
  },
  {
   "cell_type": "code",
   "execution_count": null,
   "metadata": {},
   "outputs": [],
   "source": [
    "!aguila houses150.map"
   ]
  },
  {
   "cell_type": "markdown",
   "metadata": {},
   "source": [
    "## 4.4 Create Zones of 150 Meters Around the Roads\n",
    "In a similar way we can now calculate the 150 m buffer around the roads.\n",
    "\n",
    "The values in `roads.map` represent the following classes:\n",
    "\n",
    "| Value | Class |\n",
    "|:-------:|:-------:|\n",
    "| 0 | No road |\n",
    "| 1 | Dirt road |\n",
    "| 2 | Tarmac |\n",
    "\n",
    "Do the same steps as for `houses150m` and save the result to `roads150m.map`."
   ]
  },
  {
   "cell_type": "code",
   "execution_count": null,
   "metadata": {},
   "outputs": [],
   "source": []
  },
  {
   "cell_type": "code",
   "execution_count": null,
   "metadata": {},
   "outputs": [],
   "source": []
  },
  {
   "cell_type": "code",
   "execution_count": null,
   "metadata": {},
   "outputs": [],
   "source": []
  },
  {
   "cell_type": "code",
   "execution_count": null,
   "metadata": {},
   "outputs": [],
   "source": []
  },
  {
   "cell_type": "markdown",
   "metadata": {},
   "source": [
    "Visualise the result."
   ]
  },
  {
   "cell_type": "code",
   "execution_count": null,
   "metadata": {},
   "outputs": [],
   "source": []
  },
  {
   "cell_type": "markdown",
   "metadata": {},
   "source": [
    "Save the result to disk with the name `roads150m.map`."
   ]
  },
  {
   "cell_type": "code",
   "execution_count": null,
   "metadata": {},
   "outputs": [],
   "source": []
  },
  {
   "cell_type": "markdown",
   "metadata": {},
   "source": [
    "# 5. Condition 2: No Industry, Mine, or Landfill within 300 Meters from Wells<a name=\"condition_2\"></a>\n",
    "## 5.1 Introduction\n",
    "For the second condition we first need to reclassify the `buildg` layer in such a way that the result is a Boolean map with True (1) for industry, mine, and landfill and False (0) for the other classes. Then we need to calculate the distance to the True pixels and finally calculate the pixels that are further than 300 m from industry, mine, and landfill.\n",
    "\n",
    "## 5.2 Create a Boolean Raster with True for Industry, Mine, and Landfill, and False for Other Buildings\n",
    "\n",
    "Let's first reclassify `buildg.map`. For reclassifications we use so called *Lookup tables*.\n",
    "These lookup tables can be used by PCRaster witht the [`lookup...` operations](https://pcraster.geo.uu.nl/pcraster/latest/documentation/pcraster_manual/sphinx/op_lookup.html). For these operations you need to know the data type of the output and use one of these operations:\n",
    "\n",
    "| output data type | operation |\n",
    "|:-------:|:-------:|\n",
    "| boolean | `lookupboolean` |\n",
    "| nominal | `lookupnominal` |\n",
    "| ordinal | `lookupordinal` |\n",
    "| scalar | `lookupscalar` |\n",
    "| directional | `lookupdirectional` |\n",
    "| ldd | `lookupldd` |\n",
    "\n",
    "The general syntax is:\n",
    "`Result = lookup<datatype>(lookuptable,input map)`\n",
    "\n",
    "In our case we need to reclassify `buildg.map` to a boolean result, so the operation is `lookupboolean`.\n",
    "\n",
    "In this case the table should be a text file with the following contents:\n",
    "```\n",
    "0 0\n",
    "1 0\n",
    "2 0\n",
    "3 1\n",
    "4 1\n",
    "5 1\n",
    "```\n",
    "\n",
    "You can prepare this text file in notepad or another plain text editor. You can give it any extension, but here we'll use `.tbl` so it's clear that it's a table. Here we'll use the one provided in the `2j_Data` folder: `industry.tbl`.\n",
    "\n",
    "We can also reclassify ranges of values and use multiple input maps. We will look at that later.\n",
    "\n",
    "Now we can use the `lookupboolean` operation."
   ]
  },
  {
   "cell_type": "code",
   "execution_count": null,
   "metadata": {},
   "outputs": [],
   "source": [
    "Industry = lookupboolean(\"industry.tbl\", Buildings)"
   ]
  },
  {
   "cell_type": "markdown",
   "metadata": {},
   "source": [
    "Visualise the result."
   ]
  },
  {
   "cell_type": "code",
   "execution_count": null,
   "metadata": {},
   "outputs": [],
   "source": []
  },
  {
   "cell_type": "markdown",
   "metadata": {},
   "source": [
    "## 5.3 Create Zones of 300 Meters Around Industry, Mine, and Landfill\n",
    "Now we have the industry pixels we can create a boolean map with True for pixels that are at least 300 m from industry and False for pixels that are closer than 300 m from industry.\n",
    "\n",
    "Previously we used the `spreadmaxzone` operation. There is, however, no `spreadminzone` operation.\n",
    "There are different ways to solve this:\n",
    "1. We can use `spreadmaxzone` and invert the result by using the NOT operator `~`.\n",
    "2. We can calculate all distances with the `spread` operation and use the `>=` operator to create the required boolean map.\n",
    "3. We can use a lookup table reclassifying the ranges.\n",
    "\n",
    "Method 1 is the fastest. Let's try that first."
   ]
  },
  {
   "cell_type": "code",
   "execution_count": null,
   "metadata": {},
   "outputs": [],
   "source": [
    "IndustryMax300m = spreadmaxzone(Industry, 0, 1, 300)\n",
    "IndustryMin300m = ~ IndustryMax300m"
   ]
  },
  {
   "cell_type": "markdown",
   "metadata": {},
   "source": [
    "Visualise the result."
   ]
  },
  {
   "cell_type": "code",
   "execution_count": null,
   "metadata": {},
   "outputs": [],
   "source": []
  },
  {
   "cell_type": "markdown",
   "metadata": {},
   "source": [
    "Let's look also at the other methods and see if they give the same result.\n",
    "\n",
    "Calculate the distances to Industry:"
   ]
  },
  {
   "cell_type": "code",
   "execution_count": null,
   "metadata": {},
   "outputs": [],
   "source": [
    "IndustryDistance = spread(Industry,0,1)"
   ]
  },
  {
   "cell_type": "markdown",
   "metadata": {},
   "source": [
    "Create the boolean condition:"
   ]
  },
  {
   "cell_type": "code",
   "execution_count": null,
   "metadata": {},
   "outputs": [],
   "source": [
    "IndustryMin300m_2 = IndustryDistance >= 300"
   ]
  },
  {
   "cell_type": "markdown",
   "metadata": {},
   "source": [
    "Visualise the result."
   ]
  },
  {
   "cell_type": "code",
   "execution_count": null,
   "metadata": {},
   "outputs": [],
   "source": []
  },
  {
   "cell_type": "markdown",
   "metadata": {},
   "source": [
    "For the third method we're going to use a lookup table with ranges. In the text file the first column containst the ranges and the second column the output values. `[` and `]` are used to include the value in the range and `<` and `>` are used to exclude the value in the range.\n",
    "\n",
    "So here our text file looks like:\n",
    "\n",
    "```\n",
    "<,300> 0\n",
    "[300,> 1\n",
    "```\n",
    "\n",
    "Where the first row means: all values < 300 get boolean zero. The second row means all values >= 300 get boolean 1.\n",
    "\n",
    "We're going to reclassify `IndustryDistance` using the lookup table `industry300m.tbl` which is in the `2j_Data` folder. Write the code below and write the result to `IndustryMin300m_3`:"
   ]
  },
  {
   "cell_type": "code",
   "execution_count": null,
   "metadata": {},
   "outputs": [],
   "source": []
  },
  {
   "cell_type": "markdown",
   "metadata": {},
   "source": [
    "Visualise the result."
   ]
  },
  {
   "cell_type": "code",
   "execution_count": null,
   "metadata": {},
   "outputs": [],
   "source": []
  },
  {
   "cell_type": "markdown",
   "metadata": {},
   "source": [
    "You can see that the results are the same.\n",
    "In GIS you often get to the same result in different ways. You need to find the most efficient route to the desired result.\n",
    "\n",
    "Save the result as `ind300m.map`.\n"
   ]
  },
  {
   "cell_type": "code",
   "execution_count": null,
   "metadata": {},
   "outputs": [],
   "source": []
  },
  {
   "cell_type": "markdown",
   "metadata": {},
   "source": [
    "# 6.1 Condition 3: Wells Less than 40 Meters Deep<a name=\"condition_3\"></a>\n",
    "For the last condition we need to identify the wells that are less than 40 m deep.\n",
    "\n",
    "`gwlevel.map` gives the absolute elevation of the groundwater level in the well in meters above sea level. In order to calculate the depth to the groundwater, we need to subtract this from the surface elevation given in the digital terrain model (`dtm.map`).\n",
    "\n",
    "Read `gwlevel.map` and `dtm.map` from disk and use the variables `GWLevel` and `DTM` respectively. Try to do that by yourself in the next line."
   ]
  },
  {
   "cell_type": "code",
   "execution_count": null,
   "metadata": {},
   "outputs": [],
   "source": []
  },
  {
   "cell_type": "markdown",
   "metadata": {},
   "source": [
    "Now we can calculate the well depth by subtracting the rasters:"
   ]
  },
  {
   "cell_type": "code",
   "execution_count": null,
   "metadata": {},
   "outputs": [],
   "source": [
    "WellDepth = DTM - GWLevel"
   ]
  },
  {
   "cell_type": "markdown",
   "metadata": {},
   "source": [
    "Let's visualise the result. Is it boolean, nominal or scalar?"
   ]
  },
  {
   "cell_type": "code",
   "execution_count": null,
   "metadata": {},
   "outputs": [],
   "source": []
  },
  {
   "cell_type": "markdown",
   "metadata": {},
   "source": [
    "We can calculate a boolean raster where pixels with a well depth < 40 are True and >= 40 are False. Type the code in the next field and write the output to variable `NotDeep`."
   ]
  },
  {
   "cell_type": "code",
   "execution_count": null,
   "metadata": {},
   "outputs": [],
   "source": []
  },
  {
   "cell_type": "markdown",
   "metadata": {},
   "source": [
    "Visualise and save the result to `notdeep.map`."
   ]
  },
  {
   "cell_type": "code",
   "execution_count": null,
   "metadata": {},
   "outputs": [],
   "source": []
  },
  {
   "cell_type": "code",
   "execution_count": null,
   "metadata": {},
   "outputs": [],
   "source": []
  },
  {
   "cell_type": "markdown",
   "metadata": {},
   "source": [
    "# 7. Combine the Three Conditions<a name=\"combine\"></a>\n",
    "After calculating the Boolean maps for the three conditions we need to combine them to come to the final result.\n",
    "\n",
    "The result should be a boolean map where accessible wells are located at cells where all conditions are True. Other cells should be False. Which boolean operator should we use?\n",
    "\n",
    "A. OR\n",
    "\n",
    "B. NOT\n",
    "\n",
    "C. AND\n",
    "\n",
    "D. XOR\n",
    "\n",
    "Type the code in the field below. Use the correct [operator](https://pcraster.geo.uu.nl/pcraster/latest/documentation/python/quickstart.html#operators). Write the results to variable `AccessibleWells`."
   ]
  },
  {
   "cell_type": "code",
   "execution_count": null,
   "metadata": {},
   "outputs": [],
   "source": []
  },
  {
   "cell_type": "markdown",
   "metadata": {},
   "source": [
    "Visualise the result and save it disk as `accessiblewells.map`."
   ]
  },
  {
   "cell_type": "code",
   "execution_count": null,
   "metadata": {},
   "outputs": [],
   "source": []
  },
  {
   "cell_type": "code",
   "execution_count": null,
   "metadata": {},
   "outputs": [],
   "source": []
  },
  {
   "cell_type": "markdown",
   "metadata": {},
   "source": [
    "# 8. What is the advantage of scripting map algebra?<a name=\"conclusion\"></a>\n",
    "The same procedure could be easily done in QGIS as you can see in [this tutorial](https://courses.gisopencourseware.org/mod/book/view.php?id=68). So what are then the advantages of scripting this instead of using a graphical user interface (GUI)?\n",
    "\n",
    "1. You have more control over the functions, because you determine each argument and operator that you use.\n",
    "2. The process becomes reproducable. Anyone else can run the script with the input data to obtain the same results. The code is transparent (open source).\n",
    "3. You can easily modify the critera and see how it affects the result.\n",
    "\n",
    "Therefore we're going to put all code that we used in this tutorial into one script, where certain processes are written as functions. You can try it first yourself. Below you'll find the answer."
   ]
  },
  {
   "cell_type": "code",
   "execution_count": null,
   "metadata": {},
   "outputs": [],
   "source": []
  },
  {
   "cell_type": "code",
   "execution_count": null,
   "metadata": {},
   "outputs": [],
   "source": [
    "# Import the library\n",
    "from pcraster import *\n",
    "\n",
    "def WithinDistance(raster,maxdistance):\n",
    "    ResultWithinDistance = spreadmaxzone(raster, 0, 1, maxdistance)\n",
    "    return ResultWithinDistance\n",
    "    \n",
    "def BeyondDistance(raster,mindistance):\n",
    "    ResultBeyondDistance = ~ spreadmaxzone(raster, 0, 1, mindistance)\n",
    "    return ResultBeyondDistance\n",
    "\n",
    "# Change to data folder if needed\n",
    "os.chdir(\"./data\")\n",
    "\n",
    "# Read all input maps\n",
    "Buildings = readmap(\"buildg.map\")\n",
    "Roads = readmap(\"roads.map\")\n",
    "GWLevel = readmap(\"gwlevel.map\")\n",
    "DTM = readmap(\"dtm.map\")\n",
    "\n",
    "# Set thresholds for conditions\n",
    "DistanceCondition1 = 150\n",
    "DistanceCondition2 = 300\n",
    "DepthCondition3 = 40\n",
    "\n",
    "# Condition 1: Wells within X Meters of Houses or Roads\n",
    "Houses = Buildings == 1\n",
    "Houses150m = WithinDistance(Houses,DistanceCondition1)\n",
    "\n",
    "IsRoad = Roads != 0\n",
    "Roads150m = WithinDistance(IsRoad,DistanceCondition1)\n",
    "\n",
    "# Condition 2: No Industry, Mine, or Landfill within X Meters from Wells\n",
    "Industry = lookupboolean(\"industry.tbl\", Buildings)\n",
    "IndustryMin300m = BeyondDistance(Industry,DistanceCondition2)\n",
    "\n",
    "# Condition 3: Wells Less than X Meters Deep\n",
    "WellDepth = DTM - GWLevel\n",
    "NotDeep = WellDepth < DepthCondition3\n",
    "\n",
    "# Combine conditions\n",
    "AccessibleWells = Houses150m & Roads150m & IndustryMin300m & NotDeep\n",
    "\n",
    "# Write result to disk and visualise\n",
    "report(AccessibleWells,\"accessiblewells.map\")\n",
    "plot(AccessibleWells,labels={0:\"Not accessible\",1:\"Accessible\"},title=\"Wells\",filename=None)"
   ]
  },
  {
   "cell_type": "markdown",
   "metadata": {},
   "source": [
    "Now you can play with the values for the conditions and check the results.\n",
    "What happens if we change the distance to houses and roads to 250 m?"
   ]
  }
 ],
 "metadata": {
  "kernelspec": {
   "display_name": "Python 3 (ipykernel)",
   "language": "python",
   "name": "python3"
  },
  "language_info": {
   "codemirror_mode": {
    "name": "ipython",
    "version": 3
   },
   "file_extension": ".py",
   "mimetype": "text/x-python",
   "name": "python",
   "nbconvert_exporter": "python",
   "pygments_lexer": "ipython3",
   "version": "3.9.13"
  }
 },
 "nbformat": 4,
 "nbformat_minor": 4
}
