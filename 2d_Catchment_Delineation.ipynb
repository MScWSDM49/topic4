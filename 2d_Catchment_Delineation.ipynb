{
 "cells": [
  {
   "cell_type": "markdown",
   "metadata": {},
   "source": [
    "<div>\n",
    "<table style=\"width: 100%\">\n",
    "\t<tr>\n",
    "\t\t<td>\n",
    "\t\t<table style=\"width: 100%\">\n",
    "\t\t\t<tr>\n",
    "                <td ><center><font size=\"5\"><b>Module 49</b></font><center>\n",
    "                <center><font size=\"6\">Digital Innovations for Water Challenges</font><center></td>\n",
    "\t\t\t</tr>\n",
    "\t\t\t<tr>\n",
    "                <td><center><font size=\"14\">Notebook 2.d</font><center></td>\n",
    "\t\t\t</tr>\n",
    "\t\t\t<tr>\n",
    "                <td><center><font size=\"6\"><b>Catchment Delineation</b></font><center></td>\n",
    "\t\t\t</tr>\n",
    "\t\t</table>\n",
    "\t\t</td>\n",
    "\t\t<td><center><img src='images\\ihe-delft-institute_unesco_fc-lr.jpg'></img></td>\n",
    "\t</tr>\n",
    "</table>\n",
    "</div>"
   ]
  },
  {
   "cell_type": "markdown",
   "metadata": {},
   "source": [
    "# Table of contents\n",
    "1. [Learning objectives](#learningobs)\n",
    "2. [Introduction](#introduction)\n",
    "3. [Mosaic DEM tiles](#mosaic)\n",
    "4. [Reproject and subset the DEM](#reproject)\n",
    "5. [Convert to PCRaster format](#convert)\n",
    "6. [Calculate flow direction](#flowdir)\n",
    "7. [Delineate streams](#streams)\n",
    "8. [Catchment delineation](#catchment)\n",
    "9. [Automate Stream and Catchment Delineations](#automate)\n",
    "\n",
    "# 1. Learning objectives<a name=\"learningobs\"></a>\n",
    "\n",
    "- To define different OGC API's\n",
    "- To access WCS layers\n",
    "- To show WCS metadata\n",
    "- To download WCS layers\n",
    "- To visualise the downloaded layer\n",
    "\n",
    "# 2. Introduction<a name=\"introduction\"></a>\n",
    "\n",
    "In this lesson we're going to delineate streams and a catchment boundary from a DEM. In the Data folder you can find 4 SRTM DEM tiles in GeoTIFF format and shapefile with a rough bounding box of the study area.\n",
    "\n",
    "The steps are:\n",
    "\n",
    "1. Mosaic SRTM DEM tiles\n",
    "2. Reproject and clip the DEM\n",
    "3. Calculate the flow direction\n",
    "4. Delineate the streams\n",
    "5. Define the outlet\n",
    "6. Delineate the catchment\n",
    "\n",
    "Steps 1 and 2 are done with GDAL in Python. Then we convert the output to PCRaster format and continue with PCRaster operations in Python.\n",
    "\n",
    "[Here is a playlist](https://youtube.com/playlist?list=PLeuKJkIxCDj05rwD3Fun7v7rpVRg7c_kE) with the theory and how to do this in QGIS.\n",
    "\n",
    "Let's start with creating a mosaic from the SRTM tiles in the section."
   ]
  },
  {
   "cell_type": "markdown",
   "metadata": {},
   "source": [
    "# 3. Mosaic DEM tiles<a name=\"mosaic\"></a>\n",
    "The first step is to mosaic the DEM tiles into one raster layer.\n",
    "\n",
    "Data used in this tutorial are in the `2d_Data` folder. Let's set the path first."
   ]
  },
  {
   "cell_type": "code",
   "execution_count": null,
   "metadata": {},
   "outputs": [],
   "source": [
    "import os\n",
    "os.chdir('./2d_data')\n",
    "print(os.getcwd())"
   ]
  },
  {
   "cell_type": "markdown",
   "metadata": {},
   "source": [
    "Now we can make a list of all GeoTIFF files in a folder. We use the <code>glob</code> module to find all files matching the <code>.tif</code> extension."
   ]
  },
  {
   "cell_type": "code",
   "execution_count": null,
   "metadata": {},
   "outputs": [],
   "source": [
    "import glob\n",
    "from osgeo import gdal\n",
    "\n",
    "inputFiles = glob.glob('*.tif')\n",
    "print(inputFiles)"
   ]
  },
  {
   "cell_type": "markdown",
   "metadata": {},
   "source": [
    "As you see we've created a list of all the GeoTIFF files in the folder.\n",
    "Now we're going to use that list to create a mosaic in a virtual file (<code>.vrt</code>). A virtual file is very efficient in this case, because it doesn't recreate the wholde dataset, but just describes how the tiles are connected. We use <code>gdal.BuildVRT</code> for that, with the default settings. It only needs the output filename (<code>mosaic.vrt</code>) and the list of input files. We need to add <code>FlushCache()</code> to write the layer to disk."
   ]
  },
  {
   "cell_type": "code",
   "execution_count": null,
   "metadata": {},
   "outputs": [],
   "source": [
    "mosaic = gdal.BuildVRT('mosaic.vrt',inputFiles)\n",
    "mosaic.FlushCache()"
   ]
  },
  {
   "cell_type": "markdown",
   "metadata": {},
   "source": [
    "You can now open the <code>mosaic.vrt</code> layer in QGIS to check the result.\n",
    "\n",
    "The next step is to reproject and subset the mosaic so we have a smaller area to continue with."
   ]
  },
  {
   "cell_type": "markdown",
   "metadata": {},
   "source": [
    "# 4. Reproject and subset the DEM <a name=\"reproject\"></a>\n",
    "In this section we'll clip the mosaic to a smaller bounding box to reduce calculation times. In reality you'll have to estimate the approximate boundary. In the same step we reproject the DEM to UTM Zone 32 N / WGS-84 (EPSG: 32632).\n",
    "\n",
    "We'll create a function to reproject and clip the mosaic using <code>gdal.Warp</code>. With <code>gdal.WarpOptions</code> you can choose different options that are described [here](https://gdal.org/python/osgeo.gdal-module.html#WarpOptions).\n",
    "\n",
    "In this case we'll use:\n",
    "\n",
    "* <code>cutlineDSName=shapefile</code> to define the shapefile that we use for clipping. In our case <code>boundingbox.shp</code>\n",
    "* <code>cropToCutline=True</code> to use the cutline extent for the output bounds\n",
    "* <code>format='GTIFF'</code> to indicate that the output format is GeoTIFF\n",
    "* <code>dstSRS=projection</code> to define the output target projection, which is in our case EPSG: 32632.\n",
    "* <code>xRes,yRes</code> are the x and y pixel dimensions which we set both to 30 m.\n",
    "\n",
    "Then <code>gdal.Warp</code> uses <code>srcDSOrSrcDSTab</code> to define the input raster and <code>destNameOrDestDS</code> to define the output raster. We also add the <code>options</code> from <code>gdal.WarpOptions</code>.\n",
    "\n",
    "We write this in a function to keep it readable:"
   ]
  },
  {
   "cell_type": "code",
   "execution_count": null,
   "metadata": {},
   "outputs": [],
   "source": [
    "from osgeo import gdal\n",
    "def reprojectAndClip(inputraster,outputraster,projection,shapefile,resolution):\n",
    "    options = gdal.WarpOptions(cutlineDSName=shapefile,\n",
    "                           cropToCutline=True,\n",
    "                           format='GTIFF',\n",
    "                           dstSRS=projection,\n",
    "                           xRes=resolution,\n",
    "                           yRes=resolution)\n",
    "    outimage=gdal.Warp(srcDSOrSrcDSTab=inputraster,\n",
    "                           destNameOrDestDS=outputraster,\n",
    "                           options=options)\n",
    "Mosaic = 'mosaic.vrt'\n",
    "Polygon = 'boundingbox.shp'\n",
    "EPSG = 'EPSG:32632'\n",
    "spatialResolution = 30\n",
    "DEMSubset = 'DEMsubset.tif'\n",
    "reprojectAndClip(Mosaic,DEMSubset,EPSG,Polygon,spatialResolution)"
   ]
  },
  {
   "cell_type": "markdown",
   "metadata": {},
   "source": [
    "Check the result in QGIS.\n",
    "\n",
    "The rest of the workflow will be done with PCRaster. So in the next section we're going to convert the DEM subset to the PCRaster format using GDAL in Python."
   ]
  },
  {
   "cell_type": "markdown",
   "metadata": {},
   "source": [
    "# 5. Convert to PCRaster format <a name=\"convert\"></a>\n",
    "The next steps will be done using PCRaster. In this section we're going to convert the <code>DEMSubset.tif</code> file to PCRaster format.\n",
    "The DEM is continuous raster so we need to convert it to a PCRaster scalar map. We can use this function:"
   ]
  },
  {
   "cell_type": "code",
   "execution_count": null,
   "metadata": {},
   "outputs": [],
   "source": [
    "#Import gdal\n",
    "from osgeo import gdal, gdalconst\n",
    "\n",
    "def ConvertToPCRaster(src_filename,dst_filename,ot,VS):\n",
    "    #Open existing dataset\n",
    "    src_ds = gdal.Open( src_filename )\n",
    "    \n",
    "    #GDAL Translate\n",
    "    dst_ds = gdal.Translate(dst_filename, src_ds, format='PCRaster', outputType=ot, metadataOptions=VS)\n",
    "    \n",
    "    #Properly close the datasets to flush to disk\n",
    "    dst_ds = None\n",
    "    src_ds = None\n",
    "    \n",
    "ConvertToPCRaster(\"DEMsubset.tif\",\"dem.map\",gdalconst.GDT_Float32,\"VS_SCALAR\")"
   ]
  },
  {
   "cell_type": "markdown",
   "metadata": {},
   "source": [
    "Now we can use the DEM in PCRaster. Let's read the DEM map and visualise it"
   ]
  },
  {
   "cell_type": "code",
   "execution_count": null,
   "metadata": {},
   "outputs": [],
   "source": [
    "from pcraster import *\n",
    "DEM = readmap('dem.map')\n",
    "plot(DEM)"
   ]
  },
  {
   "cell_type": "markdown",
   "metadata": {},
   "source": [
    "The next step is to calculate the flow direction."
   ]
  },
  {
   "cell_type": "markdown",
   "metadata": {},
   "source": [
    "# 6. Calculate flow direction <a name=\"flowdir\"></a>\n",
    "In the stream and catchment delineation procedure we need to first remove the pits in the DEM. Pits are pixels surrounded by only higher pixels. A catchment can have only one pit, the outlet, so the other pits have to be removed by a procedure called \"fill sinks\".\n",
    "In PCRaster the <code>lddcreate</code> operation will both fill the DEM and derive the flow direction. The <code>lddcreate</code> operation needs the DEM as input and has 4 arguments to control thresholds for the filling algorithm. Details can be found in the [PCRaster documention](https://pcraster.geo.uu.nl/pcraster/4.3.0/documentation/pcraster_manual/sphinx/op_lddcreate.html).\n",
    "\n",
    "Here we want to remove all pits, so we set the thresholds to a very high number, 1e31.\n",
    "\n",
    "Be patient when you run the code below, it will take time."
   ]
  },
  {
   "cell_type": "code",
   "execution_count": null,
   "metadata": {},
   "outputs": [],
   "source": [
    "FlowDirection = lddcreate(DEM,1e31,1e31,1e31,1e31)\n",
    "report(FlowDirection,'flowdir.map')\n",
    "aguila(FlowDirection)"
   ]
  },
  {
   "cell_type": "markdown",
   "metadata": {},
   "source": [
    "Check the result by zooming in. The flow direction map has the data type ldd. Aguila recognises that and visualises the flow direction more intuitively by connected lines. Each catchment has a pit, indicated by a square.\n",
    "\n",
    "*What is the general direction of the flow?*\n",
    "\n",
    "*Why do we have so many pits at the sides of the map?*\n",
    "\n",
    "Although we can proceed with the flow direction map, you might want to create a DEM that is filled. You can use the <code>lddcreatedem</code> operation for that, which has the same arguments as <code>lddcreate</code> but results in a hydrologically corrected DEM."
   ]
  },
  {
   "cell_type": "code",
   "execution_count": null,
   "metadata": {},
   "outputs": [],
   "source": [
    "DEMFilled = lddcreatedem(DEM,1e31,1e31,1e31,1e31)"
   ]
  },
  {
   "cell_type": "markdown",
   "metadata": {},
   "source": [
    "In the field below visualise the result and calculate the difference between <code>DEM</code> and <code>DEMFilled</code> using map algebra."
   ]
  },
  {
   "cell_type": "code",
   "execution_count": null,
   "metadata": {},
   "outputs": [],
   "source": []
  },
  {
   "cell_type": "markdown",
   "metadata": {},
   "source": [
    "# 7. Delineate streams <a name=\"streams\"></a>\n",
    "In this step we're going to delineate the streams. There are two methods that we're going to apply:\n",
    "* Using Strahler orders\n",
    "* Using flow accumulation\n",
    "\n",
    "## 7.1 Strahler method\n",
    "Let's start with deriving the Strahler orders using the <code>streamorder</code> operation.\n",
    "The <code>streamorder</code> operation needs the flow direction map created in the previous section as an input. A detailed description of the <code>streamorder</code> operation can be found in the [PCRaster documentation](https://pcraster.geo.uu.nl/pcraster/latest/documentation/pcraster_manual/sphinx/op_streamorder.html)."
   ]
  },
  {
   "cell_type": "code",
   "execution_count": null,
   "metadata": {},
   "outputs": [],
   "source": [
    "StrahlerOrders = streamorder(FlowDirection)\n",
    "aguila(StrahlerOrders)"
   ]
  },
  {
   "cell_type": "markdown",
   "metadata": {},
   "source": [
    "Change the legend in Aguila to a ramp from yellow to blue, so the higher orders are blue, like rivers.\n",
    "\n",
    "The data type of the Strahler order map is ordinal, starting at 1. Now we need to determine after which Strahler order we consider the the flow big enough to call it a river. We do that through calibration. Let's calculate maps with Strahler order 1 to the maximum and compare them with OpenStreetMap.\n",
    "First we determine the maximum Strahler order by using the <code>mapmaximum</code> operation. The <code>mapmaximum</code> operation is a global operation. More info can be found in the [PCRaster documentation](https://pcraster.geo.uu.nl/pcraster/latest/documentation/pcraster_manual/sphinx/op_mapmaximum.html)."
   ]
  },
  {
   "cell_type": "code",
   "execution_count": null,
   "metadata": {},
   "outputs": [],
   "source": [
    "MaximumStrahlerOrder = mapmaximum(StrahlerOrders)"
   ]
  },
  {
   "cell_type": "markdown",
   "metadata": {},
   "source": [
    "Visualise the result with Aguila"
   ]
  },
  {
   "cell_type": "code",
   "execution_count": null,
   "metadata": {},
   "outputs": [],
   "source": []
  },
  {
   "cell_type": "markdown",
   "metadata": {},
   "source": [
    "The problem is that the result is a PCRaster map with for each pixel the maximum value of the map. In order to iterate over the Strahler orders we need to get the value. We can use the <code>cellvalue</code> operation. The <code>cellvalue</code> operation needs the raster for which it has the give the cell value as input as well as a row and column index number. Here all cells are the same, so we can simply use 0 for the index, refering to the first row and first column of the input raster."
   ]
  },
  {
   "cell_type": "code",
   "execution_count": null,
   "metadata": {},
   "outputs": [],
   "source": [
    "MaximumStrahlerOrderTuple = cellvalue(MaximumStrahlerOrder,0,0)\n",
    "print(MaximumStrahlerOrderTuple)"
   ]
  },
  {
   "cell_type": "markdown",
   "metadata": {},
   "source": [
    "The <code>cellvalue</code> operation returns a tuple with two elements: the first is the cell value, the second is a boolean value which shows whether the first element, is valid or not. If the second element is False, the cell contains a missing value. So if we want to have the value we need to take the first element of the tuple."
   ]
  },
  {
   "cell_type": "code",
   "execution_count": null,
   "metadata": {},
   "outputs": [],
   "source": [
    "MaximumStrahlerOrderValue = MaximumStrahlerOrderTuple[0]\n",
    "print(MaximumStrahlerOrderValue)"
   ]
  },
  {
   "cell_type": "markdown",
   "metadata": {},
   "source": [
    "Can you write a generic Python function below that reads a map and returns the cell value, so we can re-use it when we need it?"
   ]
  },
  {
   "cell_type": "code",
   "execution_count": null,
   "metadata": {},
   "outputs": [],
   "source": []
  },
  {
   "cell_type": "markdown",
   "metadata": {},
   "source": [
    "Now we can loop over the Strahler orders and save each map larger or equal to that order."
   ]
  },
  {
   "cell_type": "code",
   "execution_count": null,
   "metadata": {},
   "outputs": [],
   "source": [
    "for order in range (1,MaximumStrahlerOrderValue + 1):\n",
    "    Stream = ifthen(StrahlerOrders >= order, boolean(1))\n",
    "    report(Stream,'stream'+str(order)+'.map')"
   ]
  },
  {
   "cell_type": "markdown",
   "metadata": {},
   "source": [
    "Visualise the different results and choose which best matches with OpenStreetMap or Google Satellite. You can load the layers in QGIS to do this."
   ]
  },
  {
   "cell_type": "markdown",
   "metadata": {},
   "source": [
    "## 7.2 Flow accumulation method\n",
    "In order to estimate where the river is we can also use the flow accumulation method. In PCRaster that's done with the [accuflux](https://pcraster.geo.uu.nl/pcraster/latest/documentation/pcraster_manual/sphinx/op_accuflux.html) operation. Accuflux will accumulate material (second argument) over the flow direction. Here we choose 1 for all cells as material."
   ]
  },
  {
   "cell_type": "code",
   "execution_count": null,
   "metadata": {},
   "outputs": [],
   "source": [
    "FlowAccumulation = accuflux(FlowDirection,1)"
   ]
  },
  {
   "cell_type": "markdown",
   "metadata": {},
   "source": [
    "Visualise the result with Aguila. Change the legend to shifted logarithmic, because of the large range of values."
   ]
  },
  {
   "cell_type": "code",
   "execution_count": null,
   "metadata": {},
   "outputs": [],
   "source": []
  },
  {
   "cell_type": "markdown",
   "metadata": {},
   "source": [
    "In the same way as with the Strahler method we need to determine the minimum flow accumulation that we consider a river. We do this again by comparing boolean maps with a reference map. Let's start wit 9000 pixels."
   ]
  },
  {
   "cell_type": "code",
   "execution_count": null,
   "metadata": {},
   "outputs": [],
   "source": [
    "RiverFlow = ifthen(FlowAccumulation > 9000, boolean(1))"
   ]
  },
  {
   "cell_type": "markdown",
   "metadata": {},
   "source": [
    "Try this for different values and check how well it matches with for example OpenStreetMap in QGIS.\n",
    "\n",
    "After calibration, write the one that fits best to disk with `report`."
   ]
  },
  {
   "cell_type": "code",
   "execution_count": null,
   "metadata": {},
   "outputs": [],
   "source": []
  },
  {
   "cell_type": "markdown",
   "metadata": {},
   "source": [
    "# 8. Catchment Delineation <a name=\"catchment\"></a>\n",
    "In this section we're going to delineate the catchment of an outlet and all catchments in the DEM.\n",
    "\n",
    "## 8.1 Delineate the catchment of a specific outlet\n",
    "\n",
    "First we need to identify an outlet on the delineated stream of the previous step. You can use the result from the Strahler order method or the flow accumulation method for finding the pixels that are part of the river. You can use QGIS or Aguila to find the coordinate. In Aguila you can do that using the crosshair tool.\n",
    "\n",
    "You can use the fields below to load the river map from the previous section, visualise with Aguila and find the coordinates of a pixel on the river map that we want to use as outlet for the catchment that we're going to delineate."
   ]
  },
  {
   "cell_type": "code",
   "execution_count": null,
   "metadata": {},
   "outputs": [],
   "source": []
  },
  {
   "cell_type": "code",
   "execution_count": null,
   "metadata": {},
   "outputs": [],
   "source": []
  },
  {
   "cell_type": "markdown",
   "metadata": {},
   "source": [
    "Let's use 288880.648,5675880.258 as coordinates of the outlet.\n",
    "PCRaster comes with a tool <code>col2map</code>, which reads a textfile in the format:\n",
    "\n",
    "`x y id`\n",
    "\n",
    "and converts it to a PCRaster map. You can run the tool from the commandline, but here we're going to wrap it into a Python function. More info about the `col2map` tool can be found in the [PCRaster documentation](https://pcraster.geo.uu.nl/pcraster/latest/documentation/pcraster_manual/sphinx/app_col2map.html)\n",
    "\n",
    "The tool has arguments for the data type and needs a clone map. In our case the outlet will be a nominal raster with one pixel that has an id number. For the clone we can use the river map."
   ]
  },
  {
   "cell_type": "code",
   "execution_count": null,
   "metadata": {},
   "outputs": [],
   "source": [
    "def col2map(x,y,id,datatype,clone):\n",
    "    with open('location.txt', 'w') as f:\n",
    "        f.write(str(x) + ' ' + str(y) + ' ' + str(id))\n",
    "    cmd = 'col2map -{0} location.txt location.map --clone {1}'.format(datatype,clone)\n",
    "    print(cmd)\n",
    "    os.system(cmd)\n",
    "    Map = readmap('location.map')\n",
    "    return Map\n",
    "\n",
    "x = 288880.648\n",
    "y = 5675880.258\n",
    "id = 1\n",
    "datatype = 'N'\n",
    "clone = 'stream8.map'\n",
    "Outlet = col2map(x,y,id,datatype,clone)\n",
    "aguila(Outlet,river)"
   ]
  },
  {
   "cell_type": "markdown",
   "metadata": {},
   "source": [
    "The function creates a text file. We wrote a string with \"x y id\" to the file. Then the command was constructed as a string and we run the command string with <code>os.system</code>.\n",
    "\n",
    "We have also printed the command string after running the script. This command could be typed at the command prompt.\n",
    "\n",
    "Now we have the outlet defined in our delineated river, we can delineate the catchment that contributes to that outlet using the <code>catchment</code> operation. The <code>catchment</code> operation needs the flow direction map and the outlet map as input. More information about the <code>catchment</code> operation can be found in the [PCRaster documentation](https://pcraster.geo.uu.nl/pcraster/latest/documentation/pcraster_manual/sphinx/op_catchment.html)."
   ]
  },
  {
   "cell_type": "code",
   "execution_count": null,
   "metadata": {},
   "outputs": [],
   "source": [
    "RurCatchment = catchment(FlowDirection,Outlet)"
   ]
  },
  {
   "cell_type": "markdown",
   "metadata": {},
   "source": [
    "## 8.2 Delineate all catchments in the DEM\n",
    "\n",
    "That's the catchment of a specific outlet. If we want to automatically derive all catchments in the raster we need to find the pits first, which can be considered as outlets. This can be done with the <code>pit</code> operation. More information about the <code>pit</code> operation can be found in the [PCRaster documentation](https://pcraster.geo.uu.nl/pcraster/latest/documentation/pcraster_manual/sphinx/op_pit.html). It only needs the flow direction map as input."
   ]
  },
  {
   "cell_type": "code",
   "execution_count": null,
   "metadata": {},
   "outputs": [],
   "source": [
    "outlets = pit(FlowDirection)"
   ]
  },
  {
   "cell_type": "markdown",
   "metadata": {},
   "source": [
    "Visualise the result with Aguila."
   ]
  },
  {
   "cell_type": "code",
   "execution_count": null,
   "metadata": {},
   "outputs": [],
   "source": []
  },
  {
   "cell_type": "markdown",
   "metadata": {},
   "source": [
    "*Where are the pits located?*\n",
    "\n",
    "*How many are there?*"
   ]
  },
  {
   "cell_type": "markdown",
   "metadata": {},
   "source": [
    "Now we can use those outlets in the <code>catchment</code> operation to derive all catchments in the raster. Write the code below and visualise the result with Aguila."
   ]
  },
  {
   "cell_type": "code",
   "execution_count": null,
   "metadata": {},
   "outputs": [],
   "source": []
  },
  {
   "cell_type": "code",
   "execution_count": null,
   "metadata": {},
   "outputs": [],
   "source": []
  },
  {
   "cell_type": "markdown",
   "metadata": {},
   "source": [
    "*What do you see?*\n",
    "\n",
    "*Why are there so many catchments at the boundary of the area?*"
   ]
  },
  {
   "cell_type": "markdown",
   "metadata": {},
   "source": [
    "In the next section we're going to combine all code into one script to automate the process as much as possible."
   ]
  },
  {
   "cell_type": "markdown",
   "metadata": {},
   "source": [
    "# 9. Automate stream and catchment delineation <a name=\"automate\"></a>\n",
    "We can also automate the procedure of delineating streams and the catchment of a specific outlet by using the code of the previous sections. Obviously we can't automate the calibration of the stream delineation.\n",
    "\n",
    "Try to combine all code of the previous sections first by yourself. Write it in functions to make it readable. You can use the example code below to help you out."
   ]
  },
  {
   "cell_type": "code",
   "execution_count": null,
   "metadata": {},
   "outputs": [],
   "source": []
  },
  {
   "cell_type": "code",
   "execution_count": null,
   "metadata": {},
   "outputs": [],
   "source": [
    "import os, glob\n",
    "from pcraster import *\n",
    "from osgeo import gdal, gdalconst\n",
    "\n",
    "def mosaic(inputpattern,outputmosaic):\n",
    "    InputFiles = glob.glob(inputpattern)\n",
    "    mosaic = gdal.BuildVRT(outputmosaic,InputFiles)\n",
    "    mosaic.FlushCache()\n",
    "    \n",
    "def reprojectAndClip(inputraster,outputraster,projection,shapefile,resolution):\n",
    "    options = gdal.WarpOptions(cutlineDSName=shapefile,\n",
    "                           cropToCutline=True,\n",
    "                           format='GTIFF',\n",
    "                           dstSRS=projection,\n",
    "                           xRes=resolution,\n",
    "                           yRes=resolution)\n",
    "    outimage=gdal.Warp(srcDSOrSrcDSTab=inputraster,\n",
    "                           destNameOrDestDS=outputraster,\n",
    "                           options=options)\n",
    "\n",
    "def ConvertToPCRaster(src_filename,dst_filename,ot,VS):\n",
    "    #Open existing dataset\n",
    "    src_ds = gdal.Open( src_filename )\n",
    "    \n",
    "    #GDAL Translate\n",
    "    dst_ds = gdal.Translate(dst_filename, src_ds, format='PCRaster', outputType=ot, metadataOptions=VS)\n",
    "    \n",
    "    #Properly close the datasets to flush to disk\n",
    "    dst_ds = None\n",
    "    src_ds = None\n",
    "    \n",
    "def CalculateFlowDirection(DEMFile):\n",
    "    DEM = readmap(DEMFile)\n",
    "    FlowDirectionMap = lddcreate(DEM,1e31,1e31,1e31,1e31)\n",
    "    return FlowDirectionMap\n",
    "\n",
    "def StreamDelineation(FlowDirectionMap,Threshold):\n",
    "    StrahlerOrders = streamorder(FlowDirectionMap)\n",
    "    Stream = ifthen(StrahlerOrders >= Threshold, boolean(1))\n",
    "    return Stream\n",
    "    \n",
    "def col2map(x,y,clone):\n",
    "    with open('location.txt', 'w') as f:\n",
    "        f.write(str(x) + ' ' + str(y) + ' 1')\n",
    "    cmd = 'col2map -N location.txt location.map --clone {0}'.format(clone)\n",
    "    os.system(cmd)\n",
    "    Map = readmap('location.map')\n",
    "    return Map\n",
    "    \n",
    "\n",
    "# Define inputs and settings\n",
    "# Note that outputs of previous runs need to be removed to avoid errors\n",
    "# os.chdir('../PCRasterCatchmentDelineation/')\n",
    "TileExtension = '*.tif'\n",
    "MosaicOutput = 'mosaic.vrt'\n",
    "BoundaryPolygon = 'boundingbox.shp'\n",
    "OutputProjection = 'EPSG:32632'\n",
    "OutputSpatialResolution = 30.0\n",
    "DEMSubsetOutput = 'DEMsubset.tif'\n",
    "PCRasterDEMOutput = 'dem.map'\n",
    "FlowDirectionOutput = 'flowdir.map'\n",
    "StrahlerOrderThreshold = 8\n",
    "OutletX = 288880.648\n",
    "OutletY = 5675880.258\n",
    "clone = PCRasterDEMOutput\n",
    "\n",
    "\n",
    "# Apply stream and catchment delineation workflow\n",
    "print('Creating mosaic...')\n",
    "mosaic(TileExtension,MosaicOutput)\n",
    "print('Done!')\n",
    "\n",
    "print('Reprojecting and clipping...')\n",
    "reprojectAndClip(MosaicOutput,DEMSubsetOutput,OutputProjection,BoundaryPolygon,OutputSpatialResolution)\n",
    "print('Done')\n",
    "\n",
    "print('Converting to PCRaster format...')\n",
    "ConvertToPCRaster(DEMSubsetOutput,PCRasterDEMOutput,gdalconst.GDT_Float32,\"VS_SCALAR\")\n",
    "print('Done!')\n",
    "\n",
    "print('Calculating flow direction...')\n",
    "setclone(clone)\n",
    "FlowDirection = CalculateFlowDirection(PCRasterDEMOutput)\n",
    "print('Done!')\n",
    "\n",
    "print('Delineating channels...')\n",
    "River = StreamDelineation(FlowDirection,StrahlerOrderThreshold)\n",
    "print('Done')\n",
    "\n",
    "print('Delineating the catchment...')\n",
    "Outlet = col2map(OutletX,OutletY,clone)\n",
    "CatchmentArea = catchment(FlowDirection,Outlet)\n",
    "print('Done')\n",
    "\n",
    "#Visualise what you need\n",
    "aguila(CatchmentArea)\n",
    "aguila(FlowDirection)\n",
    "aguila(River)\n",
    "\n",
    "#Report what you need\n",
    "report(CatchmentArea,'catchment.map')\n",
    "report(FlowDirection,'flowdir.map')\n",
    "report(River,'channels.map')"
   ]
  }
 ],
 "metadata": {
  "kernelspec": {
   "display_name": "Python 3 (ipykernel)",
   "language": "python",
   "name": "python3"
  },
  "language_info": {
   "codemirror_mode": {
    "name": "ipython",
    "version": 3
   },
   "file_extension": ".py",
   "mimetype": "text/x-python",
   "name": "python",
   "nbconvert_exporter": "python",
   "pygments_lexer": "ipython3",
   "version": "3.9.13"
  }
 },
 "nbformat": 4,
 "nbformat_minor": 4
}
