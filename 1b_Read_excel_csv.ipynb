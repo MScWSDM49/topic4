{
 "cells": [
  {
   "cell_type": "markdown",
   "metadata": {},
   "source": [
    "<div>\n",
    "<table style=\"width: 100%\">\n",
    "\t<tr>\n",
    "\t\t<td>\n",
    "\t\t<table style=\"width: 100%\">\n",
    "\t\t\t<tr>\n",
    "                <td ><center><font size=\"5\"><b>Module 49</b></font><center>\n",
    "                <center><font size=\"6\">Digital Innovations for Water Challenges</font><center></td>\n",
    "\t\t\t</tr>\n",
    "\t\t\t<tr>\n",
    "                <td><center><font size=\"14\">Notebook 1b</font><center></td>\n",
    "\t\t\t</tr>\n",
    "\t\t\t<tr>\n",
    "                <td><center><font size=\"6\"><b>Read Excel or CSV files to Python</b></font><center></td>\n",
    "\t\t\t</tr>\n",
    "\t\t</table>\n",
    "\t\t</td>\n",
    "\t\t<td><center><img src='images/ihe-delft-institute_unesco_fc-lr.jpg'></img></td>\n",
    "\t</tr>\n",
    "</table>\n",
    "</div>"
   ]
  },
  {
   "cell_type": "markdown",
   "metadata": {},
   "source": [
    "# Table of contents\n",
    "1. [Learning objectives](#learningobs)\n",
    "2. [Introduction to Pandas read file](#introduction)\n",
    "3. [An example](#Example)\n",
    "\n",
    "# 1. Learning objectives<a name=\"learningobs\"></a>\n",
    "\n",
    "- Understand how to read Excel and CSV files in to Python.\n",
    "- Use Pandas to read Excel and CSV files and do some computation and write the results to file.\n",
    "\n",
    "\n",
    "# 2. Introduction<a name=\"introduction\"></a>\n",
    "\n",
    "Tabular data can be stored in different file types such as excel and csv. Reading such files in python is easier using the Pandas library. Pandas modules <a href=\"https://pandas.pydata.org/pandas-docs/stable/reference/api/pandas.read_excel.html\">read_excel()</a>  and <a href=\"https://pandas.pydata.org/pandas-docs/stable/reference/api/pandas.read_csv.html\">read_csv()</a> are used to read tabular data from excel and csv files respectively.\n",
    "\n",
    "The pandas module read_excel() function can be used to read the excel file data into a DataFrame object. If you look at an excel sheet, it’s a two-dimensional table. The DataFrame object also represents a two-dimensional tabular data structure. \n",
    "\n",
    "CSV files are used a lot in storing tabular data into a file. We can easily export data from database tables or excel files to CSV files. Similarly as excel, the pandas module read_csv() function can be used to read the csv file data into a DataFrame object.\n",
    "\n",
    "Once the files are read to a Pandas’ object, Pandas offers many types of inbuilt data manipulation and you can also write the results back as excel or csv files.\n",
    "\n",
    "<figure>\n",
    "<img src=\"1b_Data/dataframe.png\" style=\"width:40%\">\n",
    "<figcaption align = \"center\"> DataFrame </figcaption>\n",
    "</figure>\n",
    "\n",
    "\n"
   ]
  },
  {
   "cell_type": "markdown",
   "metadata": {},
   "source": [
    "## 3 - An example <a name=\"Example\"></a>\n",
    "### 3.1 - Read Excel file\n",
    "- Pandas read_excel() function reads the excel sheet data into a DataFrame object.\n",
    "- An excel sheet is a two-dimensional table and the DataFrame object represents the two-dimensional tabular view.\n",
    "- The Pandas read_excel() function has a lot of different parameters. Some of the main parameters are described in the table below. The full list can be found in the <a href=\"https://pandas.pydata.org/pandas-docs/stable/reference/api/pandas.read_excel.html\">official documentation</a>.\n",
    "\n",
    "Parameter       |    Description                                   |    Available Option\n",
    "----------------|--------------------------------------------------|--------------------------\n",
    "io| The string path to the workbook.| URL to file, path to file, etc.\n",
    "sheet_name      | The name of the sheet to read. Will default to the first sheet in the workbook (position 0)| The string path to the workbook \n",
    "usecols| The columns to read, if not all columns are to be read| Can be strings of columns, Excel-style columns (A:C), or integers representing positions columns\n",
    "dtype| The datatypes to use for each column| Dictionary with columns as keys and data types as values\n",
    "skiprows| The number of rows to skip from the top| Integer value representing the number of rows to skip\n",
    "nrows| The number of rows to parse| Integer value representing the number of rows to read\n",
    "                \n",
    "\n",
    "To read an excel file, the path to the file should be provided. The path can be  a path to local file ot a to URL.\n"
   ]
  },
  {
   "cell_type": "code",
   "execution_count": null,
   "metadata": {},
   "outputs": [],
   "source": [
    "# Read excel file\n",
    "import pandas as pd\n",
    "file_path = r'./1b_Data/Flowbru_Pluvio_VALI_2019.xlsx'\n",
    "df = pd.read_excel(file_path)\n",
    "df.head() # to print the first five rows of the dataframe"
   ]
  },
  {
   "cell_type": "markdown",
   "metadata": {},
   "source": [
    "The file has two sheets. So, how does Pandas know which sheet to load? By default, Pandas will use the first sheet (positionally), unless otherwise specified.\n",
    "<div class=\"alert alert-success\">\n",
    "\n",
    "**EXERCISE 1**:\n",
    "\n",
    "* Read the `the second sheet` of the file.\n",
    "\n",
    "<details>\n",
    "  <summary>Hints</summary>\n",
    "\n",
    "* Specify sheet_name.\n",
    "\n",
    "</details>\n",
    "    \n",
    "</div>"
   ]
  },
  {
   "cell_type": "code",
   "execution_count": null,
   "metadata": {},
   "outputs": [],
   "source": [
    "#Enter your answer code in this cell\n"
   ]
  },
  {
   "cell_type": "markdown",
   "metadata": {
    "tags": []
   },
   "source": [
    "#### How to Specify Columns Names in pd.read_excel().\n",
    "\n",
    "In some cases there is no need to load every column from an excel sheet, you can use the *usecols* parameter. \n",
    "For this parameter you can specify:\n",
    "- A list of column names,\n",
    "- A string of Excel column ranges,\n",
    "- A list of integers specifying the column indices to load\n",
    "\n",
    "\n",
    "<div class=\"alert alert-success\">\n",
    "\n",
    "**EXERCISE 2**:\n",
    "\n",
    "* Read the columns `Pluv. Avant-Port[mm]` and `Pluvio Voets[mm]` from the first sheet.\n",
    "\n",
    "<details>\n",
    "  <summary>Hints</summary>\n",
    "\n",
    "* Specify sheet_name and usecols\n",
    "\n",
    "</details>\n",
    "    \n",
    "</div>"
   ]
  },
  {
   "cell_type": "code",
   "execution_count": null,
   "metadata": {},
   "outputs": [],
   "source": [
    "#Enter your answer code in this cell\n"
   ]
  },
  {
   "cell_type": "markdown",
   "metadata": {
    "tags": []
   },
   "source": [
    "#### How to Skip Rows When Reading Excel Files in Pandas\n",
    "In some cases, you may encounter files where there are formatted title rows in your Excel file. in these cases, it is possible to skip a certain number of rows when reading an Excel file. \n",
    "This can be done using the *skiprows* parameter. \n",
    "\n",
    "\n",
    "<div class=\"alert alert-success\">\n",
    "\n",
    "**EXERCISE 3**:\n",
    "\n",
    "* Skip the header row from you excel file.\n",
    "\n",
    "<details>\n",
    "  <summary>Hints</summary>\n",
    "\n",
    "* Use skiprows parameter and specify the number of rows you want to skip.\n",
    "\n",
    "</details>\n",
    "    \n",
    "</div>\n"
   ]
  },
  {
   "cell_type": "code",
   "execution_count": null,
   "metadata": {},
   "outputs": [],
   "source": [
    "#Enter your answer code in this cell\n"
   ]
  },
  {
   "cell_type": "markdown",
   "metadata": {},
   "source": [
    "#### How to Read Multiple Sheets in an Excel File in Pandas\n",
    "You can read multiple sheets at the same time. This can be done using the *sheet_name* parameter. <br>\n",
    "You can  pass in a list of sheets to read multiple sheets at once to the *sheet_name* parameter.\n",
    "\n",
    "\n",
    "<div class=\"alert alert-success\">\n",
    "\n",
    "**EXERCISE 4**:\n",
    "\n",
    "* Read the two sheets in your excel file.\n",
    "\n",
    "<details>\n",
    "  <summary>Hints</summary>\n",
    "\n",
    "* Use sheet_name parameter and specify the name of the sheets you want to read.\n",
    "\n",
    "</details>\n",
    "    \n",
    "</div>\n",
    "\n"
   ]
  },
  {
   "cell_type": "code",
   "execution_count": null,
   "metadata": {},
   "outputs": [],
   "source": [
    "#Enter your answer code in this cell\n"
   ]
  },
  {
   "cell_type": "markdown",
   "metadata": {
    "tags": []
   },
   "source": [
    "### 3.2 - Read csv file\n",
    "- Pandas read_csv() function reads csv files into a Dataframe object.\n",
    "- CSV (coma separted values) files are frequently used to store tabular data into a file. Data from database tables or excel files can be exported to CSV files.\n",
    "- The Pandas read_csv() function has many different parameters. Some of the main parameters are described in the table below. The full list can be found in the <a href= \"https://pandas.pydata.org/pandas-docs/stable/reference/api/pandas.read_csv.html\">official documentation</a>.\n",
    "\n",
    "Parameter       |    Description                                   \n",
    "----------------|--------------------------------------------------\n",
    "filepath_or_buffer| It is the location of the file which is to be retrieved using this function It accepts any string path or URL of the file.\n",
    "sep| It stands for separator| default is ‘, ‘ as in CSV(comma separated values) but other separators are also possible.\n",
    "header| It accepts int, a list of int, row numbers to use as the column names, and the start of the data. If no names are passed, i.e., header=None, then,  it will display the first column as 0, the second as 1, and so on.\n",
    "usecols| It is used to retrieve only selected columns from the CSV file.\n",
    "nrows| It means a number of rows to be displayed from the dataset.\n",
    "index_col| If None, there are no index numbers displayed along with records.  \n",
    "skiprows| Skips passed rows in the new data frame.\n",
    "\n",
    "\n",
    "\n",
    "To read a csv file, the path to the file should be provided. The path can be  a path to local file or to a URL."
   ]
  },
  {
   "cell_type": "code",
   "execution_count": null,
   "metadata": {},
   "outputs": [],
   "source": [
    "# Read csv file\n",
    "file_path = r'./1b_Data/Flowbru_Pluvio_VALI_2019.csv'\n",
    "df = pd.read_csv(file_path, sep = ',')\n",
    "df.head()"
   ]
  },
  {
   "cell_type": "markdown",
   "metadata": {},
   "source": [
    "#### How to Specify Columns Names in pd.read_csv().\n",
    "\n",
    "In cases there is no need to load every column from a csv file, you can use the *usecols* parameter. \n",
    "For this parameter you can specify:\n",
    "- A list of column names,\n",
    "- A list of integers specifying the column indices to load\n",
    "\n",
    "\n",
    "<div class=\"alert alert-success\">\n",
    "\n",
    "**EXERCISE 5**:\n",
    "   \n",
    "* Read the columns `Pluvio Hippocrat[mm]`, `Pluvio Broekbeek[mm]` and `Pluvio Voets[mm]` from the csv file.\n",
    "\n",
    "<details>\n",
    "  <summary>Hints</summary>\n",
    "\n",
    "* Specify column names or thier indices for the usecols paramater\n",
    "\n",
    "</details>\n",
    "    \n",
    "</div>"
   ]
  },
  {
   "cell_type": "code",
   "execution_count": null,
   "metadata": {},
   "outputs": [],
   "source": [
    "#Enter your answer code in this cell\n"
   ]
  },
  {
   "cell_type": "markdown",
   "metadata": {},
   "source": [
    "#### How to Skip Rows When Reading CSV Files in Pandas\n",
    "As in the case in excel files, you can also skip rows in reading csv filess using the *skiprows* parameter. \n",
    "\n",
    "<div class=\"alert alert-success\">\n",
    "\n",
    "**EXERCISE 6**:\n",
    "\n",
    "* Skip the header row from you csv file.\n",
    "\n",
    "<details>\n",
    "  <summary>Hints</summary>\n",
    "\n",
    "* Use skiprows parameter and specify the number of rows you want to skip.\n",
    "\n",
    "</details>\n",
    "    \n",
    "</div>\n"
   ]
  },
  {
   "cell_type": "code",
   "execution_count": null,
   "metadata": {},
   "outputs": [],
   "source": [
    "#Enter your answer code in this cell\n"
   ]
  }
 ],
 "metadata": {
  "kernelspec": {
   "display_name": "Python 3 (ipykernel)",
   "language": "python",
   "name": "python3"
  },
  "language_info": {
   "codemirror_mode": {
    "name": "ipython",
    "version": 3
   },
   "file_extension": ".py",
   "mimetype": "text/x-python",
   "name": "python",
   "nbconvert_exporter": "python",
   "pygments_lexer": "ipython3",
   "version": "3.11.4"
  }
 },
 "nbformat": 4,
 "nbformat_minor": 4
}
