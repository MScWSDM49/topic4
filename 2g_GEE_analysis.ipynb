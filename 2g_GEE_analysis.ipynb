{
 "cells": [
  {
   "cell_type": "markdown",
   "metadata": {},
   "source": [
    "<div>\n",
    "<table style=\"width: 100%\">\n",
    "\t<tr>\n",
    "\t\t<td>\n",
    "\t\t<table style=\"width: 100%\">\n",
    "\t\t\t<tr>\n",
    "                <td ><center><font size=\"5\"><b>Module 49</b></font><center>\n",
    "                <center><font size=\"6\">Digital Innovations for Water Challenges</font><center></td>\n",
    "\t\t\t</tr>\n",
    "\t\t\t<tr>\n",
    "                <td><center><font size=\"14\">Notebook 2g</font><center></td>\n",
    "\t\t\t</tr>\n",
    "\t\t\t<tr>\n",
    "                <td><center><font size=\"6\"><b>Spatial data analysis in Google Earth Engine (GEE)</b></font><center></td>\n",
    "\t\t\t</tr>\n",
    "\t\t</table>\n",
    "\t\t</td>\n",
    "\t\t<td><center><img src='images/ihe-delft-institute_unesco_fc-lr.jpg'></img></td>\n",
    "\t</tr>\n",
    "</table>\n",
    "</div>"
   ]
  },
  {
   "cell_type": "markdown",
   "metadata": {},
   "source": [
    "# Table of contents\n",
    "1. [Learning objectives](#learningobs)\n",
    "2. [Introduction](#introduction)\n",
    "3. [Installation of required library](#install)\n",
    "4. [Initializing the GEE](#initial)\n",
    "5. [Import data](#import)\n",
    "6. [Clip and display](#clip)\n",
    "7. [Compute Area](#area)\n",
    "8. [Image collection and temporal aggregation](#collection)\n",
    "9. [Zonal statistics and export](#zonal)\n",
    "10. [Exercise](#exercise)\n",
    "11. [References and tutorials](#reference)\n",
    "\n",
    "# 1. Learning objectives<a name=\"learningobs\"></a>\n",
    "\n",
    "- To access data from Google Earth Engine (GEE) using Python\n",
    "- To show metadata\n",
    "- To import data\n",
    "- To interactively visualise the imported data\n",
    "- To clip data to study area, compute landcover area\n",
    "- To perform temporal, univariate and zonal statistics\n",
    "\n",
    "# 2. Introduction<a name=\"introduction\"></a>\n",
    "\n",
    "[Google Earth Engine (GEE)](https://earthengine.google.com/) is a computing platform that allows users to run geospatial analysis on Google's infrastructure. It brings together the world's satellite imagery from multiple sources – Landsat, Sentinel, MODIS etc. along with access to other secondary climatic and Geo-physical datasets covering entire globe. GEE has become very popular in the geospatial community and numerous environmental applications at local, regional, and global scales have been deployed all over the globe. GEE provides both JavaScript and Python APIs for making computational requests to the Earth Engine servers. \n",
    "\n",
    "Watch [this video](https://youtu.be/gKGOeTFHnKY) for an overview about GEE and what it can do.\n",
    "\n",
    "In this module we will use [Geemap](https://geemap.org/), which is a Python package for interactive mapping with Google Earth Engine (GEE). It is built upon ipyleaflet and ipywidgets, and enables users to analyze and visualize Earth Engine datasets interactively within a Jupyter-based environment.\n",
    "\n",
    "Read below paper about Geemap by the developed Prof. Quisheng Wu. <br>\n",
    "* Wu, Q., (2020). geemap: A Python package for interactive mapping with Google Earth Engine. The Journal of Open Source Software, 5(51), 2305. https://doi.org/10.21105/joss.02305\n",
    "    \n",
    "<b>Note</b>: You will need a valid login to access GEE. See [this document](docs/Signup_Instructions_GEE.pdf) for instructions to signup."
   ]
  },
  {
   "cell_type": "markdown",
   "metadata": {},
   "source": [
    "# 3. Installation of required library<a name=\"install\"></a>\n",
    "You need to have geemap python library installed in your computer. <br>\n",
    "If you are using conda environment then use the below command to install geemap. <br>\n",
    "<b>This is one time step.</b>"
   ]
  },
  {
   "cell_type": "code",
   "execution_count": null,
   "metadata": {},
   "outputs": [],
   "source": [
    "#conda install -c conda-forge geemap"
   ]
  },
  {
   "cell_type": "markdown",
   "metadata": {},
   "source": [
    "<b>OR</b> use pip to install the geemap package as given below"
   ]
  },
  {
   "cell_type": "code",
   "execution_count": null,
   "metadata": {},
   "outputs": [],
   "source": [
    "#!pip install --upgrade geemap"
   ]
  },
  {
   "cell_type": "code",
   "execution_count": null,
   "metadata": {},
   "outputs": [],
   "source": [
    "#geemap.update_package()"
   ]
  },
  {
   "cell_type": "markdown",
   "metadata": {},
   "source": [
    "# 4. Initializing the GEE<a name=\"initial\"></a>\n",
    "Let us start with geemap by importing the library and bringing in a interactive map."
   ]
  },
  {
   "cell_type": "code",
   "execution_count": null,
   "metadata": {},
   "outputs": [],
   "source": [
    "import os\n",
    "import ee\n",
    "import geemap"
   ]
  },
  {
   "cell_type": "markdown",
   "metadata": {},
   "source": [
    "Now you will define a interactive map and get it inline in this notebook. <br>\n",
    "<b> Note that first time you do this step in your computer, it will ask for authorize the access needed by GEE. You have to follow the instructions and finish the authorization. This is only one time in local computer</b> <br>\n",
    "See this [youtube video](https://www.youtube.com/watch?v=h0pz3S6Tvx0&t=359s) showing the authorization steps."
   ]
  },
  {
   "cell_type": "code",
   "execution_count": null,
   "metadata": {},
   "outputs": [],
   "source": [
    "Map = geemap.Map()\n",
    "Map"
   ]
  },
  {
   "cell_type": "markdown",
   "metadata": {},
   "source": [
    "Now that you have successfully initiated the geemap, let us explore data sets from GEE by importing them to this notebook."
   ]
  },
  {
   "cell_type": "markdown",
   "metadata": {},
   "source": [
    "# 5. Find and import data in GEE<a name=\"import\"></a>\n",
    "GEE offers access to petabytes of data from various data sources primarily from satellites and remote sensing.<br>\n",
    "You can check [this link](https://developers.google.com/earth-engine/datasets) for the data catalog of GEE.<br>\n",
    "For each type of data, the catalog gives you <b>\"Earthengine snippet\"</b> as shown below (only an example) which can be used to access this particular data. <br>\n",
    "<br>\n",
    "<img src=\"images/gee1.png\" alt=\"gee\" width=\"500\"/>\n",
    "<br>\n",
    "**Let us now create a new instance of interactive Map**\n"
   ]
  },
  {
   "cell_type": "code",
   "execution_count": null,
   "metadata": {},
   "outputs": [],
   "source": [
    "Map = geemap.Map()\n",
    "Map"
   ]
  },
  {
   "cell_type": "markdown",
   "metadata": {},
   "source": [
    "Let us import the Copernicus global land cover map of 2019 and display it in the Map above. See details of [Copernicus global land cover map here](https://developers.google.com/earth-engine/datasets/catalog/COPERNICUS_Landcover_100m_Proba-V-C3_Global)\n",
    "\n",
    "**GEE Functions used** \\\n",
    "[*ee.Image*](https://developers.google.com/earth-engine/apidocs/ee-image): An object to represent an Earth Engine image. \\\n",
    "[*Map.addLayer*](https://geemap.org/geemap/#geemap.geemap.Map.addLayer): Adds a given EE object to the map as a layer.\n"
   ]
  },
  {
   "cell_type": "code",
   "execution_count": null,
   "metadata": {},
   "outputs": [],
   "source": [
    "landcover = ee.Image(\"COPERNICUS/Landcover/100m/Proba-V-C3/Global/2019\").select('discrete_classification')\n",
    "Map.addLayer(landcover, {}, \"Land Cover\")\n",
    "# Let us now add the legend of Landcover map to the interactive Map.\n",
    "Map.add_legend(builtin_legend='ESA_WorldCover')"
   ]
  },
  {
   "cell_type": "markdown",
   "metadata": {},
   "source": [
    "Let us import the global country boundaries (vector) provided by FAO in GEE and display it in the Map above. See details of [FAO GAUL](https://developers.google.com/earth-engine/datasets/catalog/FAO_GAUL_2015_level0)\n",
    "\n",
    "**GEE Functions used** \\\n",
    "[*ee.FeatureCollection*](https://developers.google.com/earth-engine/apidocs/ee-featurecollection): An object to represent an Earth Engine collection of vector, geometry etc. \\\n",
    "[*Map.addLayer*](https://geemap.org/geemap/#geemap.geemap.Map.addLayer): Adds a given EE object to the map as a layer."
   ]
  },
  {
   "cell_type": "code",
   "execution_count": null,
   "metadata": {},
   "outputs": [],
   "source": [
    "boundaries = ee.FeatureCollection(\"FAO/GAUL/2015/level0\")\n",
    "boundaries_level1 = ee.FeatureCollection(\"FAO/GAUL/2015/level1\")\n",
    "Map.addLayer(boundaries, {}, 'Country Boundaries')"
   ]
  },
  {
   "cell_type": "markdown",
   "metadata": {},
   "source": [
    "# 6. Clip and display<a name=\"clip\"></a>\n",
    "GEE offers 'algorithms' to conduct spatial data analysis. The analyses can be performed on the data offered in GEE and also with the user imported data.\n",
    "Here we are clipping the global landcover map to Kenya and display the country and provinces boundary over the clipped landcover.\n",
    "\n",
    "**Functions used** \\\n",
    "[*filter*](https://developers.google.com/earth-engine/apidocs/ee-featurecollection-filter): Apply a filter to this collection. \\\n",
    "[*Map.addLayer*](https://geemap.org/geemap/#geemap.geemap.Map.addLayer):  Clips an image to a Geometry or Feature."
   ]
  },
  {
   "cell_type": "code",
   "execution_count": null,
   "metadata": {},
   "outputs": [],
   "source": [
    "# Below command does a filter based on table schema, here we say \"ADM0_NAME == 'Kenya'\".\n",
    "# You will get details of table schema in the data catalog.\n",
    "# https://developers.google.com/earth-engine/datasets/catalog/FAO_GAUL_2015_level0\n",
    "country = boundaries.filter(\"ADM0_NAME == 'Kenya'\")\n",
    "provinces = boundaries_level1.filter(\"ADM0_NAME == 'Kenya'\")\n",
    "Map.addLayer(country, {}, 'Your Country')\n",
    "# Below command zoom to your country\n",
    "Map.center_object(country)"
   ]
  },
  {
   "cell_type": "markdown",
   "metadata": {},
   "source": [
    "Now that we have our Map zoomed into the area of interest and overlayed the boundary of country of interest, let us now clip the global Landcover map to kenya.\n",
    "\n",
    "**Functions used** \\\n",
    "[*clip*](https://developers.google.com/earth-engine/apidocs/ee-featurecollection-filter): Apply a filter to this collection. \\\n",
    "[*Map.addLayer*](https://geemap.org/geemap/#geemap.geemap.Map.addLayer): Adds a given EE object to the map as a layer."
   ]
  },
  {
   "cell_type": "code",
   "execution_count": null,
   "metadata": {},
   "outputs": [],
   "source": [
    "landcover_country = landcover.clip(country)\n",
    "Map.addLayer(landcover_country, {}, 'Country Landcover')\n",
    "Map.addLayer(provinces, {}, 'Country provinces')"
   ]
  },
  {
   "cell_type": "markdown",
   "metadata": {},
   "source": [
    "# 7. Compute Area of each landcover type<a name=\"area\"></a>\n",
    "In this section, let us compute the area of each landcover type in Kenya in Sq.Km\n",
    "\n",
    "**Functions used** \\\n",
    "[*image_area_by_group*](https://geemap.org/common/#geemap.common.image_area_by_group): Calculates the area of each class of an image.. \\"
   ]
  },
  {
   "cell_type": "code",
   "execution_count": null,
   "metadata": {},
   "outputs": [],
   "source": [
    "# Compute area of each land cover type in Sq.Km\n",
    "df = geemap.image_area_by_group(\n",
    "    landcover_country, scale=1000, denominator=1e6, decimal_places=4, verbose=True\n",
    ")\n",
    "df"
   ]
  },
  {
   "cell_type": "markdown",
   "metadata": {},
   "source": [
    "# 8. Image collection and temporal aggregation <a name=\"collection\"></a>\n",
    "In GEE, a stack or time series of images are called Image Collections. GEE offers all time series data related to satellite data, climate, land cover etc as image collections. An ImageCollection can be loaded by pasting an Earth Engine asset ID into the ImageCollection constructor. You can find ImageCollection IDs in the [data catalog](https://developers.google.com/earth-engine/datasets). \n",
    "For example, to load the GPM Precipitation data (Rainfall), go to the [product page](https://developers.google.com/earth-engine/datasets/catalog/NASA_GPM_L3_IMERG_MONTHLY_V06) in data catalog and get the asset id given under *Earth Engine Snippet* as shown below.\n",
    "<br>\n",
    "<img src=\"images/gee2.png\" alt=\"gee\" width=\"500\"/>\n",
    "<br>\n",
    "**Functions used** \\\n",
    "[*ee.ImageCollection*](https://geemap.org/common/#geemap.common.image_area_by_group): Calculates the area of each class of an image. \\\n",
    "[*filterBounds*](https://developers.google.com/earth-engine/apidocs/ee-imagecollection-filterbounds): Shortcut to filter a collection by intersection with geometry. Items in the collection with a footprint that fails to intersect the given geometry will be excluded. \\\n",
    "[*filterDate*](https://developers.google.com/earth-engine/apidocs/ee-imagecollection-filterdate): Shortcut to filter a collection by a date range. \\\n",
    "[select](https://developers.google.com/earth-engine/apidocs/ee-imagecollection-select): Select bands from each image in a collection.\n",
    "<br>\n",
    "<br>\n",
    "**Next, let us bring in monthly GPM precipitation data and filter it to Kenya for the year 2021.** \\\n",
    "**note that the unit is mm/hr**"
   ]
  },
  {
   "cell_type": "code",
   "execution_count": null,
   "metadata": {},
   "outputs": [],
   "source": [
    "pcp_monthly = ee.ImageCollection(\"NASA/GPM_L3/IMERG_MONTHLY_V06\") \\\n",
    "    .filterBounds(country) \\\n",
    "    .filterDate('2021-01-01', '2021-12-31') \\\n",
    "    .select('precipitation')"
   ]
  },
  {
   "cell_type": "markdown",
   "metadata": {},
   "source": [
    "In the next step we will aggregate the monthly mean precipitation to annual mean and multiply by 8760 (24 * 365 hours in an year) to convert the unit to mm/year. \\\n",
    "Note how two functions can be piped together using '.'\n",
    "<br>\n",
    "**Functions used** \\\n",
    "[*mean*](https://developers.google.com/earth-engine/apidocs/ee-imagecollection-mean):  Gets image descriptive statistics. \\\n",
    "[*multiply*](https://developers.google.com/earth-engine/apidocs/ee-image-multiply): Multiplies the first value by the second for each matched pair of bands in image1 and image2. Note this function can be only applied to an image \\"
   ]
  },
  {
   "cell_type": "code",
   "execution_count": null,
   "metadata": {},
   "outputs": [],
   "source": [
    "pcp_annual = pcp_monthly.mean().multiply(8760)"
   ]
  },
  {
   "cell_type": "markdown",
   "metadata": {},
   "source": [
    "Let us now compute the un-variate statistics (mean, minimum, maximum, standard deviation, sum) of the annual precipitation image of Kenya.\n",
    "<br>\n",
    "**Functions used** \\\n",
    "[*image_stats*](https://geemap.org/common/#geemap.common.image_stats):  Reduces an image collection by calculating the mean of all values at each pixel across the stack of all matching bands. Bands are matched by name. \\\n",
    "[*getInfo*](https://developers.google.com/earth-engine/apidocs/ee-string-getinfo):  Retrieves the value of this object from the server. \\"
   ]
  },
  {
   "cell_type": "code",
   "execution_count": null,
   "metadata": {},
   "outputs": [],
   "source": [
    "pcp_annual_stats = geemap.image_stats(pcp_annual, region=country, scale=10000)\n",
    "pcp_annual_stats.getInfo()"
   ]
  },
  {
   "cell_type": "markdown",
   "metadata": {},
   "source": [
    "Let us visualize the annual precipitation. For that we first define a color gradient palette which will vary between min and max value (obtained from last step.)"
   ]
  },
  {
   "cell_type": "code",
   "execution_count": null,
   "metadata": {},
   "outputs": [],
   "source": [
    "pcpViz = {'min': 50, 'max': 1500, 'palette': ['00FFFF', '0000FF']}\n",
    "Map.addLayer(pcp_annual.clip(country), pcpViz, 'pcp annual')"
   ]
  },
  {
   "cell_type": "markdown",
   "metadata": {},
   "source": [
    "# 9. Zonal statistics and export image <a name=\"zonal\"></a>\n",
    "In this section let us extract the descriptive statistics (mean) of annual precipitation for each province in kenya. We will zonal statistics and export the derived statistics into a csv file.\n",
    "**Functions used** \\\n",
    "[*zonal_statistics*](https://geemap.org/common/#geemap.common.zonal_statistics): Summarizes the values of a raster within the zones of another dataset and exports the results as a csv, shp, json, kml, or kmz. \\\n",
    "[*ee_export_image_to_drive*](https://geemap.org/common/#geemap.common.ee_export_image_to_drive):  Creates a batch task to export an Image as a raster to Google Drive. \\"
   ]
  },
  {
   "cell_type": "code",
   "execution_count": null,
   "metadata": {},
   "outputs": [],
   "source": [
    "# First let us define the output folder and file. In this case the folder is 'Downloads' in your user folder.\n",
    "out_dir = os.path.join(os.path.expanduser('~'), 'Downloads')\n",
    "out_pcp_stats = os.path.join(out_dir, 'pcp_stats.csv')\n",
    "# Now let us apply zonal statistics and get the output into a csv file\n",
    "# Allowed output formats: csv, shp, json, kml, kmz\n",
    "# Allowed statistics type: MEAN, MAXIMUM, MINIMUM, MEDIAN, STD, MIN_MAX, VARIANCE, SUM\n",
    "geemap.zonal_statistics(pcp_annual, provinces, out_pcp_stats, statistics_type='MEAN', scale=10000)"
   ]
  },
  {
   "cell_type": "markdown",
   "metadata": {},
   "source": [
    "In the final step download the annual precipitation map for kenya to your google drive in geotif format for further analysis in other GIS softwares like QGIS. \\\n",
    "**Note that depending on the area of interest export can take long time to finish**"
   ]
  },
  {
   "cell_type": "code",
   "execution_count": null,
   "metadata": {},
   "outputs": [],
   "source": [
    "geemap.ee_export_image_to_drive(\n",
    "    pcp_annual, description='precipitation', folder='gee_output', region=ee.Geometry.bounds(country), scale=10000,\n",
    ")"
   ]
  },
  {
   "cell_type": "markdown",
   "metadata": {},
   "source": [
    "# 10. Exercise <a name=\"exercise\"></a>\n",
    "Now that you have learned how to do spatial analysis in GEE, repeat the same steps (in a new notebook) for your own country and compute:\n",
    "* Area of each land cover type in hectares\n",
    "* Average annual rainfall for the year 2020 per each province in your country\n",
    "* Make a nice interactive Map display showing the landcover, annual rainfall, boundaries"
   ]
  },
  {
   "cell_type": "markdown",
   "metadata": {},
   "source": [
    "# 11. References and tutorials<a name=\"reference\"></a>\n",
    "There are multiple tutorials and guides available now online on working with GEE. Below is a list of useful resources on GEE.\n",
    "<br>\n",
    "* [geemap tutorials by Prof. Quisheng Wu](https://geemap.org/tutorials/)\n",
    "* [GEE developer's guide](https://developers.google.com/earth-engine/)\n",
    "* [GEE API Docs](https://developers.google.com/earth-engine/apidocs)"
   ]
  }
 ],
 "metadata": {
  "kernelspec": {
   "display_name": "Python 3 (ipykernel)",
   "language": "python",
   "name": "python3"
  },
  "language_info": {
   "codemirror_mode": {
    "name": "ipython",
    "version": 3
   },
   "file_extension": ".py",
   "mimetype": "text/x-python",
   "name": "python",
   "nbconvert_exporter": "python",
   "pygments_lexer": "ipython3",
   "version": "3.9.12"
  }
 },
 "nbformat": 4,
 "nbformat_minor": 4
}
